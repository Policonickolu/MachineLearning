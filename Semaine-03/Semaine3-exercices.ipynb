{
 "cells": [
  {
   "cell_type": "markdown",
   "metadata": {
    "colab_type": "text",
    "id": "ULwBwfH9-dNH"
   },
   "source": [
    "# Régression linéaire à plusieurs variables - Exercices tirés du MOOC d'Andrew Ng"
   ]
  },
  {
   "cell_type": "markdown",
   "metadata": {
    "colab_type": "text",
    "id": "5Gnvh5p--dNT"
   },
   "source": [
    "## Chargement des données"
   ]
  },
  {
   "cell_type": "markdown",
   "metadata": {
    "colab_type": "text",
    "id": "Nehocufk-dNa"
   },
   "source": [
    "Le jeu de données donne la valeur de plusieurs maisons, ainsi que leur taille (pieds carrés) et le nombre de chambres à coucher"
   ]
  },
  {
   "cell_type": "markdown",
   "metadata": {
    "colab_type": "text",
    "id": "yusgFG3V-dNp"
   },
   "source": [
    "### Chargez les données du fichier ex1data1.csv"
   ]
  },
  {
   "cell_type": "code",
   "execution_count": 1,
   "metadata": {
    "colab": {},
    "colab_type": "code",
    "id": "RVIWwAO9-dNy"
   },
   "outputs": [],
   "source": [
    "import numpy as np\n",
    "import pandas as pd"
   ]
  },
  {
   "cell_type": "code",
   "execution_count": 2,
   "metadata": {
    "colab": {},
    "colab_type": "code",
    "id": "40WxZntB-dOn"
   },
   "outputs": [],
   "source": [
    "data = pd.read_csv(\"data.csv\")"
   ]
  },
  {
   "cell_type": "markdown",
   "metadata": {
    "colab_type": "text",
    "id": "qXflvRX4-dO-"
   },
   "source": [
    "### Visualisez les données (valeurs réelles)"
   ]
  },
  {
   "cell_type": "markdown",
   "metadata": {
    "colab_type": "text",
    "id": "dP-fVrLz-dPD"
   },
   "source": [
    "Maintenant, nous avons deux 'features'. Voyez si elles ont le même ordre de grandeur"
   ]
  },
  {
   "cell_type": "code",
   "execution_count": 3,
   "metadata": {
    "colab": {},
    "colab_type": "code",
    "id": "oUq9WWRh-dPG",
    "outputId": "8703099c-b463-4536-8d42-8197a0a14b1f"
   },
   "outputs": [
    {
     "data": {
      "text/html": [
       "<div>\n",
       "<style scoped>\n",
       "    .dataframe tbody tr th:only-of-type {\n",
       "        vertical-align: middle;\n",
       "    }\n",
       "\n",
       "    .dataframe tbody tr th {\n",
       "        vertical-align: top;\n",
       "    }\n",
       "\n",
       "    .dataframe thead th {\n",
       "        text-align: right;\n",
       "    }\n",
       "</style>\n",
       "<table border=\"1\" class=\"dataframe\">\n",
       "  <thead>\n",
       "    <tr style=\"text-align: right;\">\n",
       "      <th></th>\n",
       "      <th>size</th>\n",
       "      <th>nb_bedrooms</th>\n",
       "      <th>price</th>\n",
       "    </tr>\n",
       "  </thead>\n",
       "  <tbody>\n",
       "    <tr>\n",
       "      <th>0</th>\n",
       "      <td>2104</td>\n",
       "      <td>3</td>\n",
       "      <td>399900</td>\n",
       "    </tr>\n",
       "    <tr>\n",
       "      <th>1</th>\n",
       "      <td>1600</td>\n",
       "      <td>3</td>\n",
       "      <td>329900</td>\n",
       "    </tr>\n",
       "    <tr>\n",
       "      <th>2</th>\n",
       "      <td>2400</td>\n",
       "      <td>3</td>\n",
       "      <td>369000</td>\n",
       "    </tr>\n",
       "    <tr>\n",
       "      <th>3</th>\n",
       "      <td>1416</td>\n",
       "      <td>2</td>\n",
       "      <td>232000</td>\n",
       "    </tr>\n",
       "    <tr>\n",
       "      <th>4</th>\n",
       "      <td>3000</td>\n",
       "      <td>4</td>\n",
       "      <td>539900</td>\n",
       "    </tr>\n",
       "    <tr>\n",
       "      <th>5</th>\n",
       "      <td>1985</td>\n",
       "      <td>4</td>\n",
       "      <td>299900</td>\n",
       "    </tr>\n",
       "    <tr>\n",
       "      <th>6</th>\n",
       "      <td>1534</td>\n",
       "      <td>3</td>\n",
       "      <td>314900</td>\n",
       "    </tr>\n",
       "    <tr>\n",
       "      <th>7</th>\n",
       "      <td>1427</td>\n",
       "      <td>3</td>\n",
       "      <td>198999</td>\n",
       "    </tr>\n",
       "    <tr>\n",
       "      <th>8</th>\n",
       "      <td>1380</td>\n",
       "      <td>3</td>\n",
       "      <td>212000</td>\n",
       "    </tr>\n",
       "    <tr>\n",
       "      <th>9</th>\n",
       "      <td>1494</td>\n",
       "      <td>3</td>\n",
       "      <td>242500</td>\n",
       "    </tr>\n",
       "    <tr>\n",
       "      <th>10</th>\n",
       "      <td>1940</td>\n",
       "      <td>4</td>\n",
       "      <td>239999</td>\n",
       "    </tr>\n",
       "    <tr>\n",
       "      <th>11</th>\n",
       "      <td>2000</td>\n",
       "      <td>3</td>\n",
       "      <td>347000</td>\n",
       "    </tr>\n",
       "    <tr>\n",
       "      <th>12</th>\n",
       "      <td>1890</td>\n",
       "      <td>3</td>\n",
       "      <td>329999</td>\n",
       "    </tr>\n",
       "    <tr>\n",
       "      <th>13</th>\n",
       "      <td>4478</td>\n",
       "      <td>5</td>\n",
       "      <td>699900</td>\n",
       "    </tr>\n",
       "    <tr>\n",
       "      <th>14</th>\n",
       "      <td>1268</td>\n",
       "      <td>3</td>\n",
       "      <td>259900</td>\n",
       "    </tr>\n",
       "    <tr>\n",
       "      <th>15</th>\n",
       "      <td>2300</td>\n",
       "      <td>4</td>\n",
       "      <td>449900</td>\n",
       "    </tr>\n",
       "    <tr>\n",
       "      <th>16</th>\n",
       "      <td>1320</td>\n",
       "      <td>2</td>\n",
       "      <td>299900</td>\n",
       "    </tr>\n",
       "    <tr>\n",
       "      <th>17</th>\n",
       "      <td>1236</td>\n",
       "      <td>3</td>\n",
       "      <td>199900</td>\n",
       "    </tr>\n",
       "    <tr>\n",
       "      <th>18</th>\n",
       "      <td>2609</td>\n",
       "      <td>4</td>\n",
       "      <td>499998</td>\n",
       "    </tr>\n",
       "    <tr>\n",
       "      <th>19</th>\n",
       "      <td>3031</td>\n",
       "      <td>4</td>\n",
       "      <td>599000</td>\n",
       "    </tr>\n",
       "    <tr>\n",
       "      <th>20</th>\n",
       "      <td>1767</td>\n",
       "      <td>3</td>\n",
       "      <td>252900</td>\n",
       "    </tr>\n",
       "    <tr>\n",
       "      <th>21</th>\n",
       "      <td>1888</td>\n",
       "      <td>2</td>\n",
       "      <td>255000</td>\n",
       "    </tr>\n",
       "    <tr>\n",
       "      <th>22</th>\n",
       "      <td>1604</td>\n",
       "      <td>3</td>\n",
       "      <td>242900</td>\n",
       "    </tr>\n",
       "    <tr>\n",
       "      <th>23</th>\n",
       "      <td>1962</td>\n",
       "      <td>4</td>\n",
       "      <td>259900</td>\n",
       "    </tr>\n",
       "    <tr>\n",
       "      <th>24</th>\n",
       "      <td>3890</td>\n",
       "      <td>3</td>\n",
       "      <td>573900</td>\n",
       "    </tr>\n",
       "    <tr>\n",
       "      <th>25</th>\n",
       "      <td>1100</td>\n",
       "      <td>3</td>\n",
       "      <td>249900</td>\n",
       "    </tr>\n",
       "    <tr>\n",
       "      <th>26</th>\n",
       "      <td>1458</td>\n",
       "      <td>3</td>\n",
       "      <td>464500</td>\n",
       "    </tr>\n",
       "    <tr>\n",
       "      <th>27</th>\n",
       "      <td>2526</td>\n",
       "      <td>3</td>\n",
       "      <td>469000</td>\n",
       "    </tr>\n",
       "    <tr>\n",
       "      <th>28</th>\n",
       "      <td>2200</td>\n",
       "      <td>3</td>\n",
       "      <td>475000</td>\n",
       "    </tr>\n",
       "    <tr>\n",
       "      <th>29</th>\n",
       "      <td>2637</td>\n",
       "      <td>3</td>\n",
       "      <td>299900</td>\n",
       "    </tr>\n",
       "    <tr>\n",
       "      <th>30</th>\n",
       "      <td>1839</td>\n",
       "      <td>2</td>\n",
       "      <td>349900</td>\n",
       "    </tr>\n",
       "    <tr>\n",
       "      <th>31</th>\n",
       "      <td>1000</td>\n",
       "      <td>1</td>\n",
       "      <td>169900</td>\n",
       "    </tr>\n",
       "    <tr>\n",
       "      <th>32</th>\n",
       "      <td>2040</td>\n",
       "      <td>4</td>\n",
       "      <td>314900</td>\n",
       "    </tr>\n",
       "    <tr>\n",
       "      <th>33</th>\n",
       "      <td>3137</td>\n",
       "      <td>3</td>\n",
       "      <td>579900</td>\n",
       "    </tr>\n",
       "    <tr>\n",
       "      <th>34</th>\n",
       "      <td>1811</td>\n",
       "      <td>4</td>\n",
       "      <td>285900</td>\n",
       "    </tr>\n",
       "    <tr>\n",
       "      <th>35</th>\n",
       "      <td>1437</td>\n",
       "      <td>3</td>\n",
       "      <td>249900</td>\n",
       "    </tr>\n",
       "    <tr>\n",
       "      <th>36</th>\n",
       "      <td>1239</td>\n",
       "      <td>3</td>\n",
       "      <td>229900</td>\n",
       "    </tr>\n",
       "    <tr>\n",
       "      <th>37</th>\n",
       "      <td>2132</td>\n",
       "      <td>4</td>\n",
       "      <td>345000</td>\n",
       "    </tr>\n",
       "    <tr>\n",
       "      <th>38</th>\n",
       "      <td>4215</td>\n",
       "      <td>4</td>\n",
       "      <td>549000</td>\n",
       "    </tr>\n",
       "    <tr>\n",
       "      <th>39</th>\n",
       "      <td>2162</td>\n",
       "      <td>4</td>\n",
       "      <td>287000</td>\n",
       "    </tr>\n",
       "    <tr>\n",
       "      <th>40</th>\n",
       "      <td>1664</td>\n",
       "      <td>2</td>\n",
       "      <td>368500</td>\n",
       "    </tr>\n",
       "    <tr>\n",
       "      <th>41</th>\n",
       "      <td>2238</td>\n",
       "      <td>3</td>\n",
       "      <td>329900</td>\n",
       "    </tr>\n",
       "    <tr>\n",
       "      <th>42</th>\n",
       "      <td>2567</td>\n",
       "      <td>4</td>\n",
       "      <td>314000</td>\n",
       "    </tr>\n",
       "    <tr>\n",
       "      <th>43</th>\n",
       "      <td>1200</td>\n",
       "      <td>3</td>\n",
       "      <td>299000</td>\n",
       "    </tr>\n",
       "    <tr>\n",
       "      <th>44</th>\n",
       "      <td>852</td>\n",
       "      <td>2</td>\n",
       "      <td>179900</td>\n",
       "    </tr>\n",
       "    <tr>\n",
       "      <th>45</th>\n",
       "      <td>1852</td>\n",
       "      <td>4</td>\n",
       "      <td>299900</td>\n",
       "    </tr>\n",
       "    <tr>\n",
       "      <th>46</th>\n",
       "      <td>1203</td>\n",
       "      <td>3</td>\n",
       "      <td>239500</td>\n",
       "    </tr>\n",
       "  </tbody>\n",
       "</table>\n",
       "</div>"
      ],
      "text/plain": [
       "    size  nb_bedrooms   price\n",
       "0   2104            3  399900\n",
       "1   1600            3  329900\n",
       "2   2400            3  369000\n",
       "3   1416            2  232000\n",
       "4   3000            4  539900\n",
       "5   1985            4  299900\n",
       "6   1534            3  314900\n",
       "7   1427            3  198999\n",
       "8   1380            3  212000\n",
       "9   1494            3  242500\n",
       "10  1940            4  239999\n",
       "11  2000            3  347000\n",
       "12  1890            3  329999\n",
       "13  4478            5  699900\n",
       "14  1268            3  259900\n",
       "15  2300            4  449900\n",
       "16  1320            2  299900\n",
       "17  1236            3  199900\n",
       "18  2609            4  499998\n",
       "19  3031            4  599000\n",
       "20  1767            3  252900\n",
       "21  1888            2  255000\n",
       "22  1604            3  242900\n",
       "23  1962            4  259900\n",
       "24  3890            3  573900\n",
       "25  1100            3  249900\n",
       "26  1458            3  464500\n",
       "27  2526            3  469000\n",
       "28  2200            3  475000\n",
       "29  2637            3  299900\n",
       "30  1839            2  349900\n",
       "31  1000            1  169900\n",
       "32  2040            4  314900\n",
       "33  3137            3  579900\n",
       "34  1811            4  285900\n",
       "35  1437            3  249900\n",
       "36  1239            3  229900\n",
       "37  2132            4  345000\n",
       "38  4215            4  549000\n",
       "39  2162            4  287000\n",
       "40  1664            2  368500\n",
       "41  2238            3  329900\n",
       "42  2567            4  314000\n",
       "43  1200            3  299000\n",
       "44   852            2  179900\n",
       "45  1852            4  299900\n",
       "46  1203            3  239500"
      ]
     },
     "execution_count": 3,
     "metadata": {},
     "output_type": "execute_result"
    }
   ],
   "source": [
    "data"
   ]
  },
  {
   "cell_type": "markdown",
   "metadata": {
    "colab_type": "text",
    "id": "ZPqY0zPr-dPn"
   },
   "source": [
    "## Définissez quelques variables utiles"
   ]
  },
  {
   "cell_type": "markdown",
   "metadata": {
    "colab_type": "text",
    "id": "oE8AcnWD-dP0"
   },
   "source": [
    "### Définissez X et y"
   ]
  },
  {
   "cell_type": "markdown",
   "metadata": {
    "colab_type": "text",
    "id": "-eyW5vQ3-dP4"
   },
   "source": [
    "X est maintenant une matrice de dimensions m x 2"
   ]
  },
  {
   "cell_type": "code",
   "execution_count": 4,
   "metadata": {
    "colab": {},
    "colab_type": "code",
    "id": "ELWluGEU-dP9"
   },
   "outputs": [
    {
     "name": "stdout",
     "output_type": "stream",
     "text": [
      "[[2104    3]\n",
      " [1600    3]\n",
      " [2400    3]\n",
      " [1416    2]\n",
      " [3000    4]\n",
      " [1985    4]\n",
      " [1534    3]\n",
      " [1427    3]\n",
      " [1380    3]\n",
      " [1494    3]\n",
      " [1940    4]\n",
      " [2000    3]\n",
      " [1890    3]\n",
      " [4478    5]\n",
      " [1268    3]\n",
      " [2300    4]\n",
      " [1320    2]\n",
      " [1236    3]\n",
      " [2609    4]\n",
      " [3031    4]\n",
      " [1767    3]\n",
      " [1888    2]\n",
      " [1604    3]\n",
      " [1962    4]\n",
      " [3890    3]\n",
      " [1100    3]\n",
      " [1458    3]\n",
      " [2526    3]\n",
      " [2200    3]\n",
      " [2637    3]\n",
      " [1839    2]\n",
      " [1000    1]\n",
      " [2040    4]\n",
      " [3137    3]\n",
      " [1811    4]\n",
      " [1437    3]\n",
      " [1239    3]\n",
      " [2132    4]\n",
      " [4215    4]\n",
      " [2162    4]\n",
      " [1664    2]\n",
      " [2238    3]\n",
      " [2567    4]\n",
      " [1200    3]\n",
      " [ 852    2]\n",
      " [1852    4]\n",
      " [1203    3]]\n",
      "[[399900]\n",
      " [329900]\n",
      " [369000]\n",
      " [232000]\n",
      " [539900]\n",
      " [299900]\n",
      " [314900]\n",
      " [198999]\n",
      " [212000]\n",
      " [242500]\n",
      " [239999]\n",
      " [347000]\n",
      " [329999]\n",
      " [699900]\n",
      " [259900]\n",
      " [449900]\n",
      " [299900]\n",
      " [199900]\n",
      " [499998]\n",
      " [599000]\n",
      " [252900]\n",
      " [255000]\n",
      " [242900]\n",
      " [259900]\n",
      " [573900]\n",
      " [249900]\n",
      " [464500]\n",
      " [469000]\n",
      " [475000]\n",
      " [299900]\n",
      " [349900]\n",
      " [169900]\n",
      " [314900]\n",
      " [579900]\n",
      " [285900]\n",
      " [249900]\n",
      " [229900]\n",
      " [345000]\n",
      " [549000]\n",
      " [287000]\n",
      " [368500]\n",
      " [329900]\n",
      " [314000]\n",
      " [299000]\n",
      " [179900]\n",
      " [299900]\n",
      " [239500]]\n"
     ]
    }
   ],
   "source": [
    "X = data[['size','nb_bedrooms']].values\n",
    "y = data['price'].values.reshape((-1, 1))\n",
    "print(X)\n",
    "print(y)"
   ]
  },
  {
   "cell_type": "markdown",
   "metadata": {
    "colab_type": "text",
    "id": "A-siAc27-dQm"
   },
   "source": [
    "### Initialisez theta (combien de dimensions?)"
   ]
  },
  {
   "cell_type": "code",
   "execution_count": 5,
   "metadata": {
    "colab": {},
    "colab_type": "code",
    "id": "8r-s4Pcf-dQw"
   },
   "outputs": [
    {
     "name": "stdout",
     "output_type": "stream",
     "text": [
      "[[0.]\n",
      " [0.]\n",
      " [0.]]\n"
     ]
    }
   ],
   "source": [
    "theta = np.zeros(X.ndim + 1).reshape((-1, 1))\n",
    "print(theta)"
   ]
  },
  {
   "cell_type": "markdown",
   "metadata": {
    "colab_type": "text",
    "id": "xi5RASKt-dRQ"
   },
   "source": [
    "### Vérifiez les dimensions de theta et de X. Sont-elles compatibles pour implémenter la fonction d'hypothèse sous forme vectorisée?"
   ]
  },
  {
   "cell_type": "code",
   "execution_count": 6,
   "metadata": {
    "colab": {},
    "colab_type": "code",
    "id": "RXzZ2keY-dRZ"
   },
   "outputs": [
    {
     "name": "stdout",
     "output_type": "stream",
     "text": [
      "(3, 1)\n"
     ]
    }
   ],
   "source": [
    "print(theta.shape)"
   ]
  },
  {
   "cell_type": "code",
   "execution_count": 7,
   "metadata": {
    "colab": {},
    "colab_type": "code",
    "id": "5-eyKA7l-dRp"
   },
   "outputs": [
    {
     "name": "stdout",
     "output_type": "stream",
     "text": [
      "(47, 2)\n"
     ]
    }
   ],
   "source": [
    "print(X.shape)"
   ]
  },
  {
   "cell_type": "markdown",
   "metadata": {
    "colab_type": "text",
    "id": "suwCMnrm-dR1"
   },
   "source": [
    "### Modifiez X en conséquence"
   ]
  },
  {
   "cell_type": "code",
   "execution_count": 8,
   "metadata": {
    "colab": {},
    "colab_type": "code",
    "id": "ao3dQZTH-dR4"
   },
   "outputs": [
    {
     "name": "stdout",
     "output_type": "stream",
     "text": [
      "[[   1 2104    3]\n",
      " [   1 1600    3]\n",
      " [   1 2400    3]\n",
      " [   1 1416    2]\n",
      " [   1 3000    4]\n",
      " [   1 1985    4]\n",
      " [   1 1534    3]\n",
      " [   1 1427    3]\n",
      " [   1 1380    3]\n",
      " [   1 1494    3]\n",
      " [   1 1940    4]\n",
      " [   1 2000    3]\n",
      " [   1 1890    3]\n",
      " [   1 4478    5]\n",
      " [   1 1268    3]\n",
      " [   1 2300    4]\n",
      " [   1 1320    2]\n",
      " [   1 1236    3]\n",
      " [   1 2609    4]\n",
      " [   1 3031    4]\n",
      " [   1 1767    3]\n",
      " [   1 1888    2]\n",
      " [   1 1604    3]\n",
      " [   1 1962    4]\n",
      " [   1 3890    3]\n",
      " [   1 1100    3]\n",
      " [   1 1458    3]\n",
      " [   1 2526    3]\n",
      " [   1 2200    3]\n",
      " [   1 2637    3]\n",
      " [   1 1839    2]\n",
      " [   1 1000    1]\n",
      " [   1 2040    4]\n",
      " [   1 3137    3]\n",
      " [   1 1811    4]\n",
      " [   1 1437    3]\n",
      " [   1 1239    3]\n",
      " [   1 2132    4]\n",
      " [   1 4215    4]\n",
      " [   1 2162    4]\n",
      " [   1 1664    2]\n",
      " [   1 2238    3]\n",
      " [   1 2567    4]\n",
      " [   1 1200    3]\n",
      " [   1  852    2]\n",
      " [   1 1852    4]\n",
      " [   1 1203    3]]\n"
     ]
    }
   ],
   "source": [
    "X = np.insert(X, 0, 1, axis=1)\n",
    "print(X)"
   ]
  },
  {
   "cell_type": "markdown",
   "metadata": {
    "colab_type": "text",
    "id": "o68FGIcE-dSB"
   },
   "source": [
    "## Écrivez une fonction pour centrer et réduire les features"
   ]
  },
  {
   "cell_type": "code",
   "execution_count": 9,
   "metadata": {
    "colab": {},
    "colab_type": "code",
    "id": "9XRPy8ek-dSE"
   },
   "outputs": [],
   "source": [
    "def featureScaleNormalize(X):\n",
    "    mean = X[:,1:].mean(axis=0)\n",
    "    stdev = X[:,1:].std(axis=0)\n",
    "    res = (X.copy()[:,1:] - mean) / stdev\n",
    "    res = np.insert(res, 0, 1, axis=1)\n",
    "    return res, mean, stdev"
   ]
  },
  {
   "cell_type": "code",
   "execution_count": 10,
   "metadata": {
    "colab": {},
    "colab_type": "code",
    "id": "ah4o2NM4-dSU"
   },
   "outputs": [
    {
     "name": "stdout",
     "output_type": "stream",
     "text": [
      "[2000.68085106    3.17021277]\n",
      "[7.86202619e+02 7.52842809e-01]\n",
      "[[ 1.00000000e+00  1.31415422e-01 -2.26093368e-01]\n",
      " [ 1.00000000e+00 -5.09640698e-01 -2.26093368e-01]\n",
      " [ 1.00000000e+00  5.07908699e-01 -2.26093368e-01]\n",
      " [ 1.00000000e+00 -7.43677059e-01 -1.55439190e+00]\n",
      " [ 1.00000000e+00  1.27107075e+00  1.10220517e+00]\n",
      " [ 1.00000000e+00 -1.99450507e-02  1.10220517e+00]\n",
      " [ 1.00000000e+00 -5.93588523e-01 -2.26093368e-01]\n",
      " [ 1.00000000e+00 -7.29685755e-01 -2.26093368e-01]\n",
      " [ 1.00000000e+00 -7.89466782e-01 -2.26093368e-01]\n",
      " [ 1.00000000e+00 -6.44465993e-01 -2.26093368e-01]\n",
      " [ 1.00000000e+00 -7.71822042e-02  1.10220517e+00]\n",
      " [ 1.00000000e+00 -8.65999486e-04 -2.26093368e-01]\n",
      " [ 1.00000000e+00 -1.40779041e-01 -2.26093368e-01]\n",
      " [ 1.00000000e+00  3.15099326e+00  2.43050370e+00]\n",
      " [ 1.00000000e+00 -9.31923697e-01 -2.26093368e-01]\n",
      " [ 1.00000000e+00  3.80715024e-01  1.10220517e+00]\n",
      " [ 1.00000000e+00 -8.65782986e-01 -1.55439190e+00]\n",
      " [ 1.00000000e+00 -9.72625673e-01 -2.26093368e-01]\n",
      " [ 1.00000000e+00  7.73743478e-01  1.10220517e+00]\n",
      " [ 1.00000000e+00  1.31050078e+00  1.10220517e+00]\n",
      " [ 1.00000000e+00 -2.97227261e-01 -2.26093368e-01]\n",
      " [ 1.00000000e+00 -1.43322915e-01 -1.55439190e+00]\n",
      " [ 1.00000000e+00 -5.04552951e-01 -2.26093368e-01]\n",
      " [ 1.00000000e+00 -4.91995958e-02  1.10220517e+00]\n",
      " [ 1.00000000e+00  2.40309445e+00 -2.26093368e-01]\n",
      " [ 1.00000000e+00 -1.14560907e+00 -2.26093368e-01]\n",
      " [ 1.00000000e+00 -6.90255715e-01 -2.26093368e-01]\n",
      " [ 1.00000000e+00  6.68172729e-01 -2.26093368e-01]\n",
      " [ 1.00000000e+00  2.53521350e-01 -2.26093368e-01]\n",
      " [ 1.00000000e+00  8.09357707e-01 -2.26093368e-01]\n",
      " [ 1.00000000e+00 -2.05647815e-01 -1.55439190e+00]\n",
      " [ 1.00000000e+00 -1.27280274e+00 -2.88269044e+00]\n",
      " [ 1.00000000e+00  5.00114703e-02  1.10220517e+00]\n",
      " [ 1.00000000e+00  1.44532608e+00 -2.26093368e-01]\n",
      " [ 1.00000000e+00 -2.41262044e-01  1.10220517e+00]\n",
      " [ 1.00000000e+00 -7.16966387e-01 -2.26093368e-01]\n",
      " [ 1.00000000e+00 -9.68809863e-01 -2.26093368e-01]\n",
      " [ 1.00000000e+00  1.67029651e-01  1.10220517e+00]\n",
      " [ 1.00000000e+00  2.81647389e+00  1.10220517e+00]\n",
      " [ 1.00000000e+00  2.05187753e-01  1.10220517e+00]\n",
      " [ 1.00000000e+00 -4.28236746e-01 -1.55439190e+00]\n",
      " [ 1.00000000e+00  3.01854946e-01 -2.26093368e-01]\n",
      " [ 1.00000000e+00  7.20322135e-01  1.10220517e+00]\n",
      " [ 1.00000000e+00 -1.01841540e+00 -2.26093368e-01]\n",
      " [ 1.00000000e+00 -1.46104938e+00 -1.55439190e+00]\n",
      " [ 1.00000000e+00 -1.89112638e-01  1.10220517e+00]\n",
      " [ 1.00000000e+00 -1.01459959e+00 -2.26093368e-01]]\n"
     ]
    }
   ],
   "source": [
    "X, mean, stdev = featureScaleNormalize(X)\n",
    "print(mean)\n",
    "print(stdev)\n",
    "print(X)"
   ]
  },
  {
   "cell_type": "markdown",
   "metadata": {
    "colab_type": "text",
    "id": "uFn9YUZt-dSd"
   },
   "source": [
    "### Maintenant nous allons devoir adapter nos fonctions _predict_, _fit_, et _cost_ à une situation à plusieurs variables"
   ]
  },
  {
   "cell_type": "code",
   "execution_count": 11,
   "metadata": {
    "colab": {},
    "colab_type": "code",
    "id": "0ThlVQEI-dSg"
   },
   "outputs": [],
   "source": [
    "def predict(X, theta):\n",
    "    return np.dot(X, theta)"
   ]
  },
  {
   "cell_type": "code",
   "execution_count": 12,
   "metadata": {
    "colab": {},
    "colab_type": "code",
    "id": "ecrM6j9K-dSz"
   },
   "outputs": [],
   "source": [
    "def cost(X, y, theta):\n",
    "    return np.sum((predict(X, theta) - y)**2) / 2 / X.shape[0]\n"
   ]
  },
  {
   "cell_type": "code",
   "execution_count": 13,
   "metadata": {
    "colab": {},
    "colab_type": "code",
    "id": "VCtM37Mk-dTA"
   },
   "outputs": [],
   "source": [
    "def fit_with_cost(X, y, theta, alpha, num_iters):\n",
    "    J_history = list()\n",
    "    coef = alpha / X.shape[0]\n",
    "    theta = theta.copy()\n",
    "    for i in range(num_iters):\n",
    "        J_history.append(cost(X, y, theta))\n",
    "        diff = predict(X, theta) - y\n",
    "        prevtheta = theta.copy()\n",
    "        theta -= coef * np.dot(X.T, diff)\n",
    "        if (prevtheta == theta).all():\n",
    "            break    \n",
    "    return theta, np.array(J_history), i"
   ]
  },
  {
   "cell_type": "markdown",
   "metadata": {
    "colab_type": "text",
    "id": "ivUR2nTo-dTM"
   },
   "source": [
    "## Lancez l'entrainement du modèle"
   ]
  },
  {
   "cell_type": "markdown",
   "metadata": {
    "colab_type": "text",
    "id": "iT1WXlWm-dTT"
   },
   "source": [
    "Vous êtes libres de choisir alpha et num_iters cette fois!"
   ]
  },
  {
   "cell_type": "code",
   "execution_count": 14,
   "metadata": {
    "colab": {},
    "colab_type": "code",
    "id": "ABen8SGh-dTY"
   },
   "outputs": [
    {
     "name": "stdout",
     "output_type": "stream",
     "text": [
      "Nombre d'itérations :  643631\n",
      "[[340412.65957418]\n",
      " [109447.79646953]\n",
      " [ -6578.3548541 ]]\n",
      "[6.55915481e+10 6.55785428e+10 6.55655402e+10 ... 2.04328005e+09\n",
      " 2.04328005e+09 2.04328005e+09]\n"
     ]
    }
   ],
   "source": [
    "theta2, J_history, nb_iterations = fit_with_cost(X, y, theta, 0.0001, 5000000)\n",
    "print(\"Nombre d'itérations : \", nb_iterations)\n",
    "print(theta2)\n",
    "print(J_history)\n",
    "\n"
   ]
  },
  {
   "cell_type": "markdown",
   "metadata": {
    "colab_type": "text",
    "id": "2cNcBTwN-dTm"
   },
   "source": [
    "## Visualisez l'évolution du coût (graphe de convergence)"
   ]
  },
  {
   "cell_type": "code",
   "execution_count": 15,
   "metadata": {
    "colab": {},
    "colab_type": "code",
    "id": "G6CYvorH-dTt"
   },
   "outputs": [
    {
     "name": "stdout",
     "output_type": "stream",
     "text": [
      "[[ 1.          0.01185337 -1.5543919 ]\n",
      " [ 1.         -0.63937825 -0.22609337]\n",
      " [ 1.         -0.05174347  1.10220517]\n",
      " [ 1.          1.73278378 -0.22609337]\n",
      " [ 1.         -0.52744781  1.10220517]\n",
      " [ 1.          0.50282095 -0.22609337]\n",
      " [ 1.          2.32041856  1.10220517]\n",
      " [ 1.          2.34712923 -1.5543919 ]\n",
      " [ 1.         -0.66990473 -1.5543919 ]\n",
      " [ 1.          1.40208023 -0.22609337]\n",
      " [ 1.          0.36417985  1.10220517]\n",
      " [ 1.          1.20874585  1.10220517]\n",
      " [ 1.         -0.55415848 -2.88269044]\n",
      " [ 1.          1.49747549 -1.5543919 ]\n",
      " [ 1.         -1.83245491  1.10220517]\n",
      " [ 1.          2.18304939 -2.88269044]\n",
      " [ 1.         -1.32368021 -0.22609337]\n",
      " [ 1.          2.0622154  -0.22609337]\n",
      " [ 1.         -0.42060513 -0.22609337]\n",
      " [ 1.          0.46339091 -2.88269044]\n",
      " [ 1.         -1.56280432  1.10220517]\n",
      " [ 1.          1.04975375 -1.5543919 ]\n",
      " [ 1.          2.26445334 -0.22609337]\n",
      " [ 1.          0.73940119 -2.88269044]\n",
      " [ 1.         -1.2575395   1.10220517]\n",
      " [ 1.         -0.21963912 -0.22609337]\n",
      " [ 1.          1.36265019  1.10220517]\n",
      " [ 1.          1.41607153 -2.88269044]\n",
      " [ 1.         -0.59104465 -2.88269044]\n",
      " [ 1.         -1.02604702 -1.5543919 ]\n",
      " [ 1.          1.80274031 -1.5543919 ]\n",
      " [ 1.          1.62466916 -2.88269044]\n",
      " [ 1.          1.99098694 -2.88269044]\n",
      " [ 1.          2.13089999 -2.88269044]\n",
      " [ 1.          1.70988892 -2.88269044]\n",
      " [ 1.          0.47483834 -2.88269044]\n",
      " [ 1.          1.94646916 -2.88269044]\n",
      " [ 1.          0.02838855  1.10220517]\n",
      " [ 1.         -1.65692764 -2.88269044]\n",
      " [ 1.         -0.41678932 -1.5543919 ]\n",
      " [ 1.         -0.47657034  1.10220517]\n",
      " [ 1.          0.98361304 -0.22609337]\n",
      " [ 1.         -0.52236007 -1.5543919 ]\n",
      " [ 1.         -0.73604544 -2.88269044]\n",
      " [ 1.          1.02177114 -1.5543919 ]\n",
      " [ 1.          1.05356956 -1.5543919 ]\n",
      " [ 1.         -0.75385255 -0.22609337]\n",
      " [ 1.          2.35857666  1.10220517]\n",
      " [ 1.         -1.90368337  1.10220517]\n",
      " [ 1.         -0.7347735  -0.22609337]]\n"
     ]
    },
    {
     "data": {
      "text/plain": [
       "<Figure size 640x480 with 1 Axes>"
      ]
     },
     "metadata": {},
     "output_type": "display_data"
    }
   ],
   "source": [
    "import matplotlib.pyplot as plt\n",
    "\n",
    "#fit = plt.figure()\n",
    "#ax = plt.axes()\n",
    "#ax.plot(J_history)\n",
    "\n",
    "L = np.array([np.random.randint(500, 4000, 50), np.random.randint(1, 5, 50)])\n",
    "L = (L - mean.reshape(-1, 1)) / stdev.reshape(-1, 1)\n",
    "L = np.insert(L, 0, 1, axis=0)\n",
    "L = L.T\n",
    "print(L)\n",
    "\n",
    "\n",
    "#print(predict(L, theta2))\n",
    "\n",
    "plt.title(\"Matplotlib demo\") \n",
    "plt.plot(L, predict(L, theta2), 'bo')\n",
    "plt.show()"
   ]
  },
  {
   "cell_type": "markdown",
   "metadata": {
    "colab_type": "text",
    "id": "CdxXu7Cj-dT1"
   },
   "source": [
    "## Testez votre modèle"
   ]
  },
  {
   "cell_type": "markdown",
   "metadata": {
    "colab_type": "text",
    "id": "hcJvXXJM-dT2"
   },
   "source": [
    "Que vaut une maison de 1650 pieds carrés et de 3 chambres à coucher? (Si la valeur est aberrante, vous avez peut-être oublié une étape...)"
   ]
  },
  {
   "cell_type": "code",
   "execution_count": 16,
   "metadata": {
    "colab": {},
    "colab_type": "code",
    "id": "FEI0kuWI-dT_"
   },
   "outputs": [
    {
     "name": "stdout",
     "output_type": "stream",
     "text": [
      "[293081.46433464]\n"
     ]
    }
   ],
   "source": [
    "test = np.array([1650, 3])\n",
    "test = (test - mean) / stdev\n",
    "test = np.insert(test, 0, 1, axis=0)\n",
    "print(predict(test, theta2))"
   ]
  },
  {
   "cell_type": "markdown",
   "metadata": {
    "colab": {},
    "colab_type": "code",
    "id": "d6L1TpxI-dUH"
   },
   "source": [
    "### Réécrivez votre fonction fit pour qu'elle prenne en compte un parametre de regularisation (L1, L2 pour Lasso ou Ridge) et adapte la mise  a jour de theta an fonction de la regularization précisée"
   ]
  },
  {
   "cell_type": "code",
   "execution_count": 17,
   "metadata": {},
   "outputs": [],
   "source": [
    "def fit_with_regularization(X, y, theta, alpha, num_iters, regularization=\"\"):\n",
    "    J_history = list()\n",
    "    coef = alpha / X.shape[0]\n",
    "    reg = 25000 / X.shape[0]\n",
    "    theta = theta.copy()\n",
    "    L1 = 1 if regularization == \"L1\" else 0\n",
    "    L2 = 1 if regularization == \"L2\" else 0\n",
    "    for i in range(num_iters):\n",
    "        J_history.append(cost(X, y, theta))\n",
    "        diff = predict(X, theta) - y\n",
    "        prevtheta = theta.copy()\n",
    "        Ltheta = np.insert(theta[1:,0], 0, 0).reshape(3, 1)\n",
    "        theta -= coef * (np.dot(X.T, diff)\n",
    "                        + (L1 * reg * np.abs(Ltheta.copy()))\n",
    "                        + (L2 * reg * Ltheta.copy()**2))\n",
    "        if (prevtheta == theta).all():\n",
    "            break    \n",
    "    return theta, np.array(J_history), i"
   ]
  },
  {
   "cell_type": "code",
   "execution_count": 18,
   "metadata": {},
   "outputs": [
    {
     "name": "stdout",
     "output_type": "stream",
     "text": [
      "iter :  69572\n",
      "[[340412.65957444]\n",
      " [109447.79646963]\n",
      " [ -6578.35485415]]\n",
      "[6.55915481e+10 6.54615565e+10 6.53318377e+10 ... 2.04328005e+09\n",
      " 2.04328005e+09 2.04328005e+09]\n",
      "iter :  29960\n",
      "[[340412.65957444]\n",
      " [  8402.04817389]\n",
      " [  4059.63932071]]\n",
      "[6.55915481e+10 6.54615565e+10 6.53319977e+10 ... 6.60306290e+09\n",
      " 6.60306290e+09 6.60306290e+09]\n",
      "iter :  999999\n",
      "[[3.40412660e+05]\n",
      " [4.91443626e+01]\n",
      " [6.94004988e+01]]\n",
      "[6.55915481e+10 6.54615565e+10 6.53470490e+10 ... 7.63388820e+09\n",
      " 7.64216970e+09 7.63388820e+09]\n"
     ]
    }
   ],
   "source": [
    "theta3, J_history2, ite = fit_with_regularization(X, y, theta, 0.001, 1000000, \"\")\n",
    "print(\"iter : \", ite)\n",
    "print(theta3)\n",
    "print(J_history2)\n",
    "theta3, J_history2, ite = fit_with_regularization(X, y, theta, 0.001, 1000000, \"L1\")\n",
    "print(\"iter : \", ite)\n",
    "print(theta3)\n",
    "print(J_history2)\n",
    "theta3, J_history2, ite = fit_with_regularization(X, y, theta, 0.001, 1000000, \"L2\")\n",
    "print(\"iter : \", ite)\n",
    "print(theta3)\n",
    "print(J_history2)\n",
    "\n",
    "#[[340412.65957418]\n",
    "# [109447.79646953]\n",
    "# [ -6578.3548541 ]]\n",
    "#[6.55915481e+10 6.55785428e+10 6.55655402e+10 ... 2.04328005e+09\n",
    "# 2.04328005e+09 2.04328005e+09]"
   ]
  },
  {
   "cell_type": "markdown",
   "metadata": {},
   "source": [
    "### La fonction fit au complet. Ajoutez un dernier parametre qui précise le gradient employé (stochastic, mini_batch(avec le batch_size), batch). Pour la descente de gradient stochastic et minibatch on met a jour le learning rate avec la formule du learning rate decay"
   ]
  },
  {
   "cell_type": "code",
   "execution_count": 69,
   "metadata": {},
   "outputs": [],
   "source": [
    "def complete_fit(X, y, theta, alpha, num_iters, regularization=\"\", gradient_descent=\"batch\", batch_size=4, decay_rate=1):\n",
    "    J_history = list()\n",
    "    theta = theta.copy()\n",
    "\n",
    "    L1 = 1 if regularization == \"L1\" else 0\n",
    "    L2 = 1 if regularization == \"L2\" else 0\n",
    "\n",
    "    if gradient_descent == \"batch\":\n",
    "        batch_size = X.shape[0]\n",
    "    elif gradient_descent == \"stochastic\":\n",
    "        batch_size = 1\n",
    "\n",
    "    j = 0\n",
    "    k = batch_size    \n",
    "    reg = 25000 / batch_size\n",
    "\n",
    "    for i in range(num_iters):\n",
    "        alpha /= (1 + (decay_rate * i))\n",
    "        coef = alpha / batch_size\n",
    "        J_history.append(cost(X, y, theta))\n",
    "        diff = predict(X[j:k,:], theta) - y[j:k,:]\n",
    "        prevtheta = theta.copy()\n",
    "        Ltheta = np.insert(theta[1:,0], 0, 0).reshape(3, 1)\n",
    "        theta -= coef * (np.dot(X[j:k,:].T, diff)\n",
    "                        + (L1 * reg * np.abs(Ltheta.copy()))\n",
    "                        + (L2 * reg * Ltheta.copy()**2))\n",
    "        j = k % X.shape[0]\n",
    "        k = min(k + batch_size, X.shape[0]) if k < X.shape[0] else batch_size\n",
    "        #if (prevtheta == theta).all():\n",
    "        #    break    \n",
    "    return theta, np.array(J_history), i"
   ]
  },
  {
   "cell_type": "code",
   "execution_count": 71,
   "metadata": {},
   "outputs": [
    {
     "name": "stdout",
     "output_type": "stream",
     "text": [
      "iter :  999999\n",
      "[[584.64018953]\n",
      " [180.61935402]\n",
      " [ 93.39317681]]\n",
      "[6.55915481e+10 6.54615565e+10 6.53967601e+10 ... 6.53685177e+10\n",
      " 6.53685177e+10 6.53685177e+10]\n",
      "iter :  999999\n",
      "[[583.59542504]\n",
      " [ 60.90430853]\n",
      " [ 70.05469551]]\n",
      "[6.55915481e+10 6.54520294e+10 6.54216064e+10 ... 6.53827877e+10\n",
      " 6.53827877e+10 6.53827877e+10]\n",
      "iter :  999999\n",
      "[[   640.37780806]\n",
      " [ -9051.85541345]\n",
      " [-16731.03185315]]\n",
      "[6.55915481e+10 6.54548881e+10 6.55426207e+10 ... 6.75121942e+10\n",
      " 6.75121942e+10 6.75121942e+10]\n"
     ]
    }
   ],
   "source": [
    "theta4, J_history3, ite = complete_fit(X, y, theta, 0.001, 1000000, \"L1\")\n",
    "print(\"iter : \", ite)\n",
    "print(theta4)\n",
    "print(J_history3)\n",
    "\n",
    "theta4, J_history3, ite = complete_fit(X, y, theta, 0.001, 1000000, \"L1\", \"mini_batch\", 5)\n",
    "print(\"iter : \", ite)\n",
    "print(theta4)\n",
    "print(J_history3)\n",
    "\n",
    "theta4, J_history3, ite = complete_fit(X, y, theta, 0.001, 1000000, \"L1\", \"stochastic\")\n",
    "print(\"iter : \", ite)\n",
    "print(theta4)\n",
    "print(J_history3)\n",
    "\n",
    "# iter :  999999\n",
    "# [[584.64018953]\n",
    "#  [180.61935402]\n",
    "#  [ 93.39317681]]\n",
    "# [6.55915481e+10 6.54615565e+10 6.53967601e+10 ... 6.53685177e+10\n",
    "#  6.53685177e+10 6.53685177e+10]\n",
    "# iter :  999999\n",
    "# [[583.59542504]\n",
    "#  [ 60.90430853]\n",
    "#  [ 70.05469551]]\n",
    "# [6.55915481e+10 6.54520294e+10 6.54216064e+10 ... 6.53827877e+10\n",
    "#  6.53827877e+10 6.53827877e+10]\n",
    "# iter :  999999\n",
    "# [[   640.37780806]\n",
    "#  [ -9051.85541345]\n",
    "#  [-16731.03185315]]\n",
    "# [6.55915481e+10 6.54548881e+10 6.55426207e+10 ... 6.75121942e+10\n",
    "#  6.75121942e+10 6.75121942e+10]"
   ]
  },
  {
   "cell_type": "code",
   "execution_count": null,
   "metadata": {},
   "outputs": [],
   "source": []
  },
  {
   "cell_type": "code",
   "execution_count": null,
   "metadata": {},
   "outputs": [],
   "source": []
  },
  {
   "cell_type": "code",
   "execution_count": null,
   "metadata": {},
   "outputs": [],
   "source": []
  },
  {
   "cell_type": "code",
   "execution_count": null,
   "metadata": {},
   "outputs": [],
   "source": []
  },
  {
   "cell_type": "code",
   "execution_count": null,
   "metadata": {},
   "outputs": [],
   "source": []
  },
  {
   "cell_type": "code",
   "execution_count": null,
   "metadata": {},
   "outputs": [],
   "source": []
  },
  {
   "cell_type": "code",
   "execution_count": null,
   "metadata": {},
   "outputs": [],
   "source": []
  },
  {
   "cell_type": "code",
   "execution_count": null,
   "metadata": {},
   "outputs": [],
   "source": []
  },
  {
   "cell_type": "code",
   "execution_count": null,
   "metadata": {},
   "outputs": [],
   "source": []
  },
  {
   "cell_type": "code",
   "execution_count": null,
   "metadata": {},
   "outputs": [],
   "source": []
  },
  {
   "cell_type": "code",
   "execution_count": null,
   "metadata": {},
   "outputs": [],
   "source": []
  },
  {
   "cell_type": "code",
   "execution_count": null,
   "metadata": {},
   "outputs": [],
   "source": []
  }
 ],
 "metadata": {
  "colab": {
   "name": "Semaine3-exercices.ipynb",
   "provenance": [],
   "version": "0.3.2"
  },
  "kernelspec": {
   "display_name": "Python 3",
   "language": "python",
   "name": "python3"
  },
  "language_info": {
   "codemirror_mode": {
    "name": "ipython",
    "version": 3
   },
   "file_extension": ".py",
   "mimetype": "text/x-python",
   "name": "python",
   "nbconvert_exporter": "python",
   "pygments_lexer": "ipython3",
   "version": "3.7.1"
  }
 },
 "nbformat": 4,
 "nbformat_minor": 1
}
