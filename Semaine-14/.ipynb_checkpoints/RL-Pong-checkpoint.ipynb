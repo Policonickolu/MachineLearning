{
 "cells": [
  {
   "cell_type": "markdown",
   "metadata": {},
   "source": [
    "# Semaine 14 - Reinforcement Learning, Policy Gradient"
   ]
  },
  {
   "cell_type": "markdown",
   "metadata": {},
   "source": [
    "Dans l'exercice de cette semaine, nous ..."
   ]
  },
  {
   "cell_type": "markdown",
   "metadata": {},
   "source": [
    "Voici le lien vers la documentation de *Gym*:   https://gym.openai.com/docs/"
   ]
  },
  {
   "cell_type": "code",
   "execution_count": 1,
   "metadata": {},
   "outputs": [],
   "source": [
    "import numpy as np\n",
    "import _pickle as pickle\n",
    "import gym\n",
    "import matplotlib.pyplot as plt"
   ]
  },
  {
   "cell_type": "markdown",
   "metadata": {},
   "source": [
    "# L'environnement"
   ]
  },
  {
   "cell_type": "markdown",
   "metadata": {},
   "source": [
    "Dans Pong, il faut apprendre au joueur de droite à annalyser la trajectoire de la balle et à déplacer la raquette pour renvoyer la balle dans le camps adverse à l'endroit où il ne peut la renvoyer et gagner des points."
   ]
  },
  {
   "cell_type": "code",
   "execution_count": 2,
   "metadata": {},
   "outputs": [],
   "source": [
    "env = gym.make('Pong-v0')\n",
    "env.reset()\n",
    "for timestep in range(200):\n",
    "    env.render()\n",
    "    env.step(2)\n",
    "env.close()"
   ]
  },
  {
   "cell_type": "markdown",
   "metadata": {},
   "source": [
    "Le joueur dispose de 6 actions possibles:"
   ]
  },
  {
   "cell_type": "code",
   "execution_count": 3,
   "metadata": {},
   "outputs": [
    {
     "data": {
      "text/plain": [
       "6"
      ]
     },
     "execution_count": 3,
     "metadata": {},
     "output_type": "execute_result"
    }
   ],
   "source": [
    "env.action_space.n"
   ]
  },
  {
   "cell_type": "markdown",
   "metadata": {},
   "source": [
    "Testez différentes valeurs pour la variable \"action\" afin de découvrir comment est encodé le choix de l'action pour le passer à l'environnement au travers de la méthode step()"
   ]
  },
  {
   "cell_type": "code",
   "execution_count": 4,
   "metadata": {},
   "outputs": [],
   "source": [
    "action = 0\n",
    "\n",
    "env = gym.make('Pong-v0')\n",
    "env.seed(42)\n",
    "env.reset()\n",
    "for timestep in range(200):\n",
    "    env.render()\n",
    "    env.step(action)\n",
    "env.close()"
   ]
  },
  {
   "cell_type": "markdown",
   "metadata": {},
   "source": [
    "# Les observations et les états"
   ]
  },
  {
   "cell_type": "markdown",
   "metadata": {},
   "source": [
    "L'environnement fournit à l'agent une image du jeu"
   ]
  },
  {
   "cell_type": "code",
   "execution_count": 5,
   "metadata": {},
   "outputs": [
    {
     "data": {
      "text/plain": [
       "Box(210, 160, 3)"
      ]
     },
     "execution_count": 5,
     "metadata": {},
     "output_type": "execute_result"
    }
   ],
   "source": [
    "env.observation_space"
   ]
  },
  {
   "cell_type": "markdown",
   "metadata": {},
   "source": [
    "Les observations sont renvoyées par deux différentes méthodes de l'environnement:"
   ]
  },
  {
   "cell_type": "code",
   "execution_count": 6,
   "metadata": {
    "scrolled": true
   },
   "outputs": [
    {
     "data": {
      "text/plain": [
       "<matplotlib.image.AxesImage at 0x1262b7978>"
      ]
     },
     "execution_count": 6,
     "metadata": {},
     "output_type": "execute_result"
    },
    {
     "data": {
      "image/png": "[encoded data removed]",
      "text/plain": [
       "<Figure size 432x288 with 1 Axes>"
      ]
     },
     "metadata": {
      "needs_background": "light"
     },
     "output_type": "display_data"
    }
   ],
   "source": [
    "observation = env.reset()\n",
    "observation, reward, done, info = env.step(action)\n",
    "plt.imshow(observation) "
   ]
  },
  {
   "cell_type": "markdown",
   "metadata": {},
   "source": [
    "# Implémentation du Pong"
   ]
  },
  {
   "cell_type": "markdown",
   "metadata": {},
   "source": [
    "# hyperparameters"
   ]
  },
  {
   "cell_type": "code",
   "execution_count": 80,
   "metadata": {},
   "outputs": [],
   "source": [
    "H = 200 # number of hidden layer neurons\n",
    "batch_size = 10 # every how many episodes to do a param update?\n",
    "learning_rate = 1e-4\n",
    "gamma = 0.99 # discount factor for reward\n",
    "decay_rate = 0.99 # decay factor for RMSProp leaky sum of grad^2\n",
    "resume = False # resume from previous checkpoint?\n",
    "render = True"
   ]
  },
  {
   "cell_type": "markdown",
   "metadata": {},
   "source": [
    "# model initialization"
   ]
  },
  {
   "cell_type": "code",
   "execution_count": 81,
   "metadata": {},
   "outputs": [],
   "source": [
    "D = 80 * 80 # input dimensionality: 80x80 grid\n",
    "if resume:\n",
    "    model = pickle.load(open('save.p', 'rb'))\n",
    "else:\n",
    "    model = {}\n",
    "    model['W1'] = np.random.randn(H,D) / np.sqrt(D) # \"Xavier\" initialization\n",
    "    model['W2'] = np.random.randn(H) / np.sqrt(H)\n",
    "    \n",
    "grad_buffer = { k : np.zeros_like(v) for k,v in model.items() } # update buffers that add up gradients over a batch\n",
    "rmsprop_cache = { k : np.zeros_like(v) for k,v in model.items() } # rmsprop memory"
   ]
  },
  {
   "cell_type": "markdown",
   "metadata": {},
   "source": [
    "Sigmoid"
   ]
  },
  {
   "cell_type": "code",
   "execution_count": 82,
   "metadata": {},
   "outputs": [],
   "source": [
    "def sigmoid(x): \n",
    "  return 1.0 / (1.0 + np.exp(-x)) # sigmoid \"squashing\" function to interval [0,1]"
   ]
  },
  {
   "cell_type": "markdown",
   "metadata": {},
   "source": [
    "prepro 210x160x3 uint8 frame into 6400 (80x80) 1D float vector"
   ]
  },
  {
   "cell_type": "code",
   "execution_count": 83,
   "metadata": {},
   "outputs": [],
   "source": [
    "def prepro(I):\n",
    "    I = I[35:195] # crop\n",
    "    I = I[::2,::2,0] # downsample by factor of 2\n",
    "    I[I == 144] = 0 # erase background (background type 1)\n",
    "    I[I == 109] = 0 # erase background (background type 2)\n",
    "    I[I != 0] = 1 # everything else (paddles, ball) just set to 1\n",
    "    return I.astype(np.float).ravel()"
   ]
  },
  {
   "cell_type": "markdown",
   "metadata": {},
   "source": [
    "take 1D float array of rewards and compute discounted reward"
   ]
  },
  {
   "cell_type": "code",
   "execution_count": 84,
   "metadata": {},
   "outputs": [],
   "source": [
    "def discount_rewards(r):\n",
    "    \"\"\"\n",
    "        discounted_r = np.zeros_like(r)\n",
    "        running_add = 0\n",
    "        for t in reversed(range(0, r.size)):\n",
    "            if r[t] != 0: running_add = 0 # reset the sum, since this was a game boundary (pong specific!)\n",
    "            running_add = running_add * gamma + r[t]\n",
    "            discounted_r[t] = running_add\n",
    "    \"\"\"\n",
    "    return discounted_r"
   ]
  },
  {
   "cell_type": "markdown",
   "metadata": {},
   "source": []
  },
  {
   "cell_type": "code",
   "execution_count": 85,
   "metadata": {},
   "outputs": [],
   "source": [
    "def policy_forward(x):\n",
    "    \n",
    "    \"\"\"\n",
    "        h = np.dot(model['W1'], x)\n",
    "        h[h<0] = 0 # ReLU nonlinearity\n",
    "        logp = np.dot(model['W2'], h)\n",
    "        p = sigmoid(logp)\n",
    "    \"\"\"\n",
    "    return p, h # return probability of taking action 2, and hidden state"
   ]
  },
  {
   "cell_type": "markdown",
   "metadata": {},
   "source": [
    "backward pass. (eph is array of intermediate hidden states)"
   ]
  },
  {
   "cell_type": "code",
   "execution_count": 86,
   "metadata": {},
   "outputs": [],
   "source": [
    "def policy_backward(eph, epdlogp):\n",
    "    \n",
    "    \"\"\"\n",
    "        dW2 = np.dot(eph.T, epdlogp).ravel()\n",
    "        dh = np.outer(epdlogp, model['W2'])\n",
    "        dh[eph <= 0] = 0 # backpro prelu\n",
    "        dW1 = np.dot(dh.T, epx)\n",
    "    \"\"\"\n",
    "    return {'W1':dW1, 'W2':dW2}"
   ]
  },
  {
   "cell_type": "code",
   "execution_count": null,
   "metadata": {},
   "outputs": [],
   "source": []
  },
  {
   "cell_type": "code",
   "execution_count": 87,
   "metadata": {},
   "outputs": [],
   "source": [
    "env = gym.make(\"Pong-v0\")\n",
    "observation = env.reset()\n",
    "prev_x = None # used in computing the difference frame\n",
    "xs,hs,dlogps,drs = [],[],[],[]\n",
    "running_reward = None\n",
    "reward_sum = 0\n",
    "episode_number = 0"
   ]
  },
  {
   "cell_type": "code",
   "execution_count": null,
   "metadata": {},
   "outputs": [],
   "source": []
  },
  {
   "cell_type": "code",
   "execution_count": 88,
   "metadata": {},
   "outputs": [],
   "source": [
    "# preprocess the observation, set input to network to be difference image\n",
    "def difference_image():\n",
    "    global prev_x\n",
    "    cur_x = prepro(observation)\n",
    "    diff_x = cur_x - prev_x if prev_x is not None else np.zeros(D)\n",
    "    prev_x = cur_x\n",
    "    return diff_x"
   ]
  },
  {
   "cell_type": "code",
   "execution_count": null,
   "metadata": {},
   "outputs": [],
   "source": []
  },
  {
   "cell_type": "code",
   "execution_count": 89,
   "metadata": {},
   "outputs": [],
   "source": [
    "# forward the policy network and sample an action from the returned probability\n",
    "def get_action(x):\n",
    "    aprob, h = policy_forward(x)\n",
    "    \"\"\"\n",
    "        action = 2 if np.random.uniform() < aprob else 3 # roll the dice!\n",
    "    \"\"\"\n",
    "    return action, aprob, h"
   ]
  },
  {
   "cell_type": "code",
   "execution_count": null,
   "metadata": {},
   "outputs": [],
   "source": []
  },
  {
   "cell_type": "code",
   "execution_count": 90,
   "metadata": {},
   "outputs": [],
   "source": [
    "# record various intermediates (needed later for backprop)\n",
    "def record_history(x, action, aprob, h):\n",
    "    xs.append(x) # observation\n",
    "    hs.append(h) # hidden state for fitting\n",
    "    y = 1 if action == 2 else 0 # a \"fake label\"\n",
    "    dlogps.append(y - aprob) # grad that encourages the action that was taken to be taken (see http://cs231n.github.io/neural-networks-2/#losses if confused)"
   ]
  },
  {
   "cell_type": "code",
   "execution_count": null,
   "metadata": {},
   "outputs": [],
   "source": []
  },
  {
   "cell_type": "code",
   "execution_count": 91,
   "metadata": {},
   "outputs": [],
   "source": [
    "# stack together all inputs, hidden states, action gradients, and rewards for this episode\n",
    "def get_history():\n",
    "    global xs, hs, dlogps, drs\n",
    "    \"\"\"\n",
    "        epx = np.vstack(xs)\n",
    "        eph = np.vstack(hs)\n",
    "        epdlogp = np.vstack(dlogps)\n",
    "        epr = np.vstack(drs)\n",
    "        xs,hs,dlogps,drs = [],[],[],[] # reset array memory\n",
    "    \"\"\"\n",
    "    return epx, eph, epdlogp, epr"
   ]
  },
  {
   "cell_type": "code",
   "execution_count": null,
   "metadata": {},
   "outputs": [],
   "source": []
  },
  {
   "cell_type": "code",
   "execution_count": 92,
   "metadata": {},
   "outputs": [],
   "source": [
    "# compute the discounted reward backwards through time\n",
    "def standardize_reward(epr):\n",
    "    discounted_epr = discount_rewards(epr)\n",
    "    # standardize the rewards to be unit normal (helps control the gradient estimator variance)\n",
    "    \"\"\"\n",
    "        discounted_epr -= np.mean(discounted_epr)\n",
    "        discounted_epr /= np.std(discounted_epr)\n",
    "    \"\"\"\n",
    "    return discounted_epr"
   ]
  },
  {
   "cell_type": "code",
   "execution_count": null,
   "metadata": {},
   "outputs": [],
   "source": []
  },
  {
   "cell_type": "code",
   "execution_count": 93,
   "metadata": {},
   "outputs": [],
   "source": [
    "\"\"\"Optimizer function, you don't have to understand it, works like Adam\"\"\"\n",
    "def rmsprop_update():\n",
    "    for k,v in model.items():\n",
    "        g = grad_buffer[k] # gradient\n",
    "        rmsprop_cache[k] = decay_rate * rmsprop_cache[k] + (1 - decay_rate) * g**2\n",
    "        model[k] += learning_rate * g / (np.sqrt(rmsprop_cache[k]) + 1e-5)\n",
    "        grad_buffer[k] = np.zeros_like(v) # reset batch gradient buffer"
   ]
  },
  {
   "cell_type": "code",
   "execution_count": null,
   "metadata": {},
   "outputs": [],
   "source": []
  },
  {
   "cell_type": "code",
   "execution_count": 94,
   "metadata": {},
   "outputs": [],
   "source": [
    "# boring book-keeping\n",
    "def book_keeping(episode_number):\n",
    "    global running_reward, reward_sum\n",
    "    running_reward = reward_sum if running_reward is None else running_reward * 0.99 + reward_sum * 0.01\n",
    "    print('resetting env. episode reward total was %f. running mean: %f', reward_sum, running_reward)\n",
    "    if episode_number % 100 == 0: pickle.dump(model, open('save.p', 'wb'))\n",
    "    reward_sum = 0"
   ]
  },
  {
   "cell_type": "code",
   "execution_count": null,
   "metadata": {},
   "outputs": [],
   "source": []
  },
  {
   "cell_type": "code",
   "execution_count": 95,
   "metadata": {},
   "outputs": [
    {
     "name": "stderr",
     "output_type": "stream",
     "text": [
      "/sgoinfre/goinfre/Perso/hben-yah/miniconda3/lib/python3.7/site-packages/ipykernel_launcher.py:6: RuntimeWarning: invalid value encountered in true_divide\n",
      "  \n"
     ]
    },
    {
     "name": "stdout",
     "output_type": "stream",
     "text": [
      "resetting env. episode reward total was %f. running mean: %f 0.0 0.0\n",
      "resetting env. episode reward total was %f. running mean: %f 0.0 0.0\n",
      "resetting env. episode reward total was %f. running mean: %f 0.0 0.0\n",
      "resetting env. episode reward total was %f. running mean: %f 0.0 0.0\n",
      "resetting env. episode reward total was %f. running mean: %f 0.0 0.0\n",
      "resetting env. episode reward total was %f. running mean: %f 0.0 0.0\n",
      "resetting env. episode reward total was %f. running mean: %f 0.0 0.0\n",
      "resetting env. episode reward total was %f. running mean: %f 0.0 0.0\n",
      "resetting env. episode reward total was %f. running mean: %f 0.0 0.0\n",
      "resetting env. episode reward total was %f. running mean: %f 0.0 0.0\n",
      "resetting env. episode reward total was %f. running mean: %f 0.0 0.0\n",
      "resetting env. episode reward total was %f. running mean: %f 0.0 0.0\n",
      "resetting env. episode reward total was %f. running mean: %f 0.0 0.0\n",
      "resetting env. episode reward total was %f. running mean: %f 0.0 0.0\n",
      "resetting env. episode reward total was %f. running mean: %f 0.0 0.0\n",
      "resetting env. episode reward total was %f. running mean: %f 0.0 0.0\n",
      "resetting env. episode reward total was %f. running mean: %f 0.0 0.0\n",
      "resetting env. episode reward total was %f. running mean: %f 0.0 0.0\n",
      "resetting env. episode reward total was %f. running mean: %f 0.0 0.0\n",
      "resetting env. episode reward total was %f. running mean: %f 0.0 0.0\n",
      "resetting env. episode reward total was %f. running mean: %f 0.0 0.0\n",
      "resetting env. episode reward total was %f. running mean: %f 0.0 0.0\n",
      "resetting env. episode reward total was %f. running mean: %f 0.0 0.0\n",
      "resetting env. episode reward total was %f. running mean: %f 0.0 0.0\n",
      "resetting env. episode reward total was %f. running mean: %f 0.0 0.0\n",
      "resetting env. episode reward total was %f. running mean: %f 0.0 0.0\n",
      "resetting env. episode reward total was %f. running mean: %f 0.0 0.0\n",
      "resetting env. episode reward total was %f. running mean: %f 0.0 0.0\n",
      "resetting env. episode reward total was %f. running mean: %f 0.0 0.0\n",
      "resetting env. episode reward total was %f. running mean: %f 0.0 0.0\n",
      "resetting env. episode reward total was %f. running mean: %f 0.0 0.0\n",
      "resetting env. episode reward total was %f. running mean: %f 0.0 0.0\n",
      "resetting env. episode reward total was %f. running mean: %f 0.0 0.0\n",
      "resetting env. episode reward total was %f. running mean: %f 0.0 0.0\n",
      "resetting env. episode reward total was %f. running mean: %f 0.0 0.0\n",
      "resetting env. episode reward total was %f. running mean: %f 0.0 0.0\n",
      "resetting env. episode reward total was %f. running mean: %f 0.0 0.0\n",
      "resetting env. episode reward total was %f. running mean: %f 0.0 0.0\n",
      "resetting env. episode reward total was %f. running mean: %f 0.0 0.0\n",
      "resetting env. episode reward total was %f. running mean: %f 0.0 0.0\n",
      "resetting env. episode reward total was %f. running mean: %f 0.0 0.0\n",
      "resetting env. episode reward total was %f. running mean: %f 0.0 0.0\n",
      "resetting env. episode reward total was %f. running mean: %f 0.0 0.0\n",
      "resetting env. episode reward total was %f. running mean: %f 0.0 0.0\n",
      "resetting env. episode reward total was %f. running mean: %f 0.0 0.0\n",
      "resetting env. episode reward total was %f. running mean: %f 0.0 0.0\n",
      "resetting env. episode reward total was %f. running mean: %f 0.0 0.0\n",
      "resetting env. episode reward total was %f. running mean: %f 0.0 0.0\n",
      "resetting env. episode reward total was %f. running mean: %f 0.0 0.0\n",
      "resetting env. episode reward total was %f. running mean: %f 0.0 0.0\n",
      "resetting env. episode reward total was %f. running mean: %f 0.0 0.0\n",
      "resetting env. episode reward total was %f. running mean: %f 0.0 0.0\n",
      "resetting env. episode reward total was %f. running mean: %f 0.0 0.0\n",
      "resetting env. episode reward total was %f. running mean: %f 0.0 0.0\n",
      "resetting env. episode reward total was %f. running mean: %f 0.0 0.0\n",
      "resetting env. episode reward total was %f. running mean: %f 0.0 0.0\n",
      "resetting env. episode reward total was %f. running mean: %f 0.0 0.0\n",
      "resetting env. episode reward total was %f. running mean: %f 0.0 0.0\n",
      "resetting env. episode reward total was %f. running mean: %f 0.0 0.0\n",
      "resetting env. episode reward total was %f. running mean: %f 0.0 0.0\n",
      "resetting env. episode reward total was %f. running mean: %f 0.0 0.0\n",
      "resetting env. episode reward total was %f. running mean: %f 0.0 0.0\n",
      "resetting env. episode reward total was %f. running mean: %f 0.0 0.0\n",
      "resetting env. episode reward total was %f. running mean: %f 0.0 0.0\n",
      "resetting env. episode reward total was %f. running mean: %f 0.0 0.0\n",
      "resetting env. episode reward total was %f. running mean: %f 0.0 0.0\n",
      "resetting env. episode reward total was %f. running mean: %f 0.0 0.0\n",
      "resetting env. episode reward total was %f. running mean: %f 0.0 0.0\n",
      "resetting env. episode reward total was %f. running mean: %f 0.0 0.0\n",
      "resetting env. episode reward total was %f. running mean: %f 0.0 0.0\n",
      "resetting env. episode reward total was %f. running mean: %f 0.0 0.0\n",
      "resetting env. episode reward total was %f. running mean: %f 0.0 0.0\n",
      "resetting env. episode reward total was %f. running mean: %f 0.0 0.0\n",
      "resetting env. episode reward total was %f. running mean: %f 0.0 0.0\n",
      "resetting env. episode reward total was %f. running mean: %f 0.0 0.0\n",
      "resetting env. episode reward total was %f. running mean: %f 0.0 0.0\n",
      "resetting env. episode reward total was %f. running mean: %f 0.0 0.0\n",
      "resetting env. episode reward total was %f. running mean: %f 0.0 0.0\n",
      "resetting env. episode reward total was %f. running mean: %f 0.0 0.0\n",
      "resetting env. episode reward total was %f. running mean: %f 0.0 0.0\n",
      "resetting env. episode reward total was %f. running mean: %f 0.0 0.0\n",
      "resetting env. episode reward total was %f. running mean: %f 0.0 0.0\n",
      "resetting env. episode reward total was %f. running mean: %f 0.0 0.0\n",
      "resetting env. episode reward total was %f. running mean: %f 0.0 0.0\n",
      "resetting env. episode reward total was %f. running mean: %f 0.0 0.0\n",
      "resetting env. episode reward total was %f. running mean: %f 0.0 0.0\n",
      "resetting env. episode reward total was %f. running mean: %f 0.0 0.0\n",
      "resetting env. episode reward total was %f. running mean: %f 0.0 0.0\n",
      "resetting env. episode reward total was %f. running mean: %f 0.0 0.0\n"
     ]
    },
    {
     "ename": "KeyboardInterrupt",
     "evalue": "",
     "output_type": "error",
     "traceback": [
      "\u001b[0;31m---------------------------------------------------------------------------\u001b[0m",
      "\u001b[0;31mKeyboardInterrupt\u001b[0m                         Traceback (most recent call last)",
      "\u001b[0;32m<ipython-input-95-c55ea0008f51>\u001b[0m in \u001b[0;36m<module>\u001b[0;34m\u001b[0m\n\u001b[1;32m    126\u001b[0m     \u001b[0mbook_keeping\u001b[0m\u001b[0;34m(\u001b[0m\u001b[0mepisode_number\u001b[0m\u001b[0;34m)\u001b[0m\u001b[0;34m\u001b[0m\u001b[0;34m\u001b[0m\u001b[0m\n\u001b[1;32m    127\u001b[0m \u001b[0;34m\u001b[0m\u001b[0m\n\u001b[0;32m--> 128\u001b[0;31m     \u001b[0mobservation\u001b[0m \u001b[0;34m=\u001b[0m \u001b[0menv\u001b[0m\u001b[0;34m.\u001b[0m\u001b[0mreset\u001b[0m\u001b[0;34m(\u001b[0m\u001b[0;34m)\u001b[0m \u001b[0;31m# reset env\u001b[0m\u001b[0;34m\u001b[0m\u001b[0;34m\u001b[0m\u001b[0m\n\u001b[0m\u001b[1;32m    129\u001b[0m     \u001b[0mprev_x\u001b[0m \u001b[0;34m=\u001b[0m \u001b[0;32mNone\u001b[0m\u001b[0;34m\u001b[0m\u001b[0;34m\u001b[0m\u001b[0m\n\u001b[1;32m    130\u001b[0m \u001b[0;34m\u001b[0m\u001b[0m\n",
      "\u001b[0;32m/sgoinfre/goinfre/Perso/hben-yah/miniconda3/lib/python3.7/site-packages/gym/wrappers/time_limit.py\u001b[0m in \u001b[0;36mreset\u001b[0;34m(self, **kwargs)\u001b[0m\n\u001b[1;32m     42\u001b[0m         \u001b[0mself\u001b[0m\u001b[0;34m.\u001b[0m\u001b[0m_episode_started_at\u001b[0m \u001b[0;34m=\u001b[0m \u001b[0mtime\u001b[0m\u001b[0;34m.\u001b[0m\u001b[0mtime\u001b[0m\u001b[0;34m(\u001b[0m\u001b[0;34m)\u001b[0m\u001b[0;34m\u001b[0m\u001b[0;34m\u001b[0m\u001b[0m\n\u001b[1;32m     43\u001b[0m         \u001b[0mself\u001b[0m\u001b[0;34m.\u001b[0m\u001b[0m_elapsed_steps\u001b[0m \u001b[0;34m=\u001b[0m \u001b[0;36m0\u001b[0m\u001b[0;34m\u001b[0m\u001b[0;34m\u001b[0m\u001b[0m\n\u001b[0;32m---> 44\u001b[0;31m         \u001b[0;32mreturn\u001b[0m \u001b[0mself\u001b[0m\u001b[0;34m.\u001b[0m\u001b[0menv\u001b[0m\u001b[0;34m.\u001b[0m\u001b[0mreset\u001b[0m\u001b[0;34m(\u001b[0m\u001b[0;34m**\u001b[0m\u001b[0mkwargs\u001b[0m\u001b[0;34m)\u001b[0m\u001b[0;34m\u001b[0m\u001b[0;34m\u001b[0m\u001b[0m\n\u001b[0m",
      "\u001b[0;32m/sgoinfre/goinfre/Perso/hben-yah/miniconda3/lib/python3.7/site-packages/gym/envs/atari/atari_env.py\u001b[0m in \u001b[0;36mreset\u001b[0;34m(self)\u001b[0m\n\u001b[1;32m    117\u001b[0m     \u001b[0;31m# return: (states, observations)\u001b[0m\u001b[0;34m\u001b[0m\u001b[0;34m\u001b[0m\u001b[0;34m\u001b[0m\u001b[0m\n\u001b[1;32m    118\u001b[0m     \u001b[0;32mdef\u001b[0m \u001b[0mreset\u001b[0m\u001b[0;34m(\u001b[0m\u001b[0mself\u001b[0m\u001b[0;34m)\u001b[0m\u001b[0;34m:\u001b[0m\u001b[0;34m\u001b[0m\u001b[0;34m\u001b[0m\u001b[0m\n\u001b[0;32m--> 119\u001b[0;31m         \u001b[0mself\u001b[0m\u001b[0;34m.\u001b[0m\u001b[0male\u001b[0m\u001b[0;34m.\u001b[0m\u001b[0mreset_game\u001b[0m\u001b[0;34m(\u001b[0m\u001b[0;34m)\u001b[0m\u001b[0;34m\u001b[0m\u001b[0;34m\u001b[0m\u001b[0m\n\u001b[0m\u001b[1;32m    120\u001b[0m         \u001b[0;32mreturn\u001b[0m \u001b[0mself\u001b[0m\u001b[0;34m.\u001b[0m\u001b[0m_get_obs\u001b[0m\u001b[0;34m(\u001b[0m\u001b[0;34m)\u001b[0m\u001b[0;34m\u001b[0m\u001b[0;34m\u001b[0m\u001b[0m\n\u001b[1;32m    121\u001b[0m \u001b[0;34m\u001b[0m\u001b[0m\n",
      "\u001b[0;32m/sgoinfre/goinfre/Perso/hben-yah/miniconda3/lib/python3.7/site-packages/atari_py/ale_python_interface.py\u001b[0m in \u001b[0;36mreset_game\u001b[0;34m(self)\u001b[0m\n\u001b[1;32m    140\u001b[0m \u001b[0;34m\u001b[0m\u001b[0m\n\u001b[1;32m    141\u001b[0m     \u001b[0;32mdef\u001b[0m \u001b[0mreset_game\u001b[0m\u001b[0;34m(\u001b[0m\u001b[0mself\u001b[0m\u001b[0;34m)\u001b[0m\u001b[0;34m:\u001b[0m\u001b[0;34m\u001b[0m\u001b[0;34m\u001b[0m\u001b[0m\n\u001b[0;32m--> 142\u001b[0;31m         \u001b[0male_lib\u001b[0m\u001b[0;34m.\u001b[0m\u001b[0mreset_game\u001b[0m\u001b[0;34m(\u001b[0m\u001b[0mself\u001b[0m\u001b[0;34m.\u001b[0m\u001b[0mobj\u001b[0m\u001b[0;34m)\u001b[0m\u001b[0;34m\u001b[0m\u001b[0;34m\u001b[0m\u001b[0m\n\u001b[0m\u001b[1;32m    143\u001b[0m \u001b[0;34m\u001b[0m\u001b[0m\n\u001b[1;32m    144\u001b[0m     \u001b[0;32mdef\u001b[0m \u001b[0mgetLegalActionSet\u001b[0m\u001b[0;34m(\u001b[0m\u001b[0mself\u001b[0m\u001b[0;34m)\u001b[0m\u001b[0;34m:\u001b[0m\u001b[0;34m\u001b[0m\u001b[0;34m\u001b[0m\u001b[0m\n",
      "\u001b[0;31mKeyboardInterrupt\u001b[0m: "
     ]
    }
   ],
   "source": [
    "# \"\"\" Trains an agent with (stochastic) Policy Gradients on Pong. Uses OpenAI Gym. \"\"\"\n",
    "# import numpy as np\n",
    "# import _pickle as pickle\n",
    "# import gym\n",
    "\n",
    "# # hyperparameters\n",
    "# H = 200 # number of hidden layer neurons\n",
    "# batch_size = 10 # every how many episodes to do a param update?\n",
    "# learning_rate = 1e-4\n",
    "# gamma = 0.99 # discount factor for reward\n",
    "# decay_rate = 0.99 # decay factor for RMSProp leaky sum of grad^2\n",
    "# resume = False # resume from previous checkpoint?\n",
    "# render = True\n",
    "\n",
    "# model initialization\n",
    "# D = 80 * 80 # input dimensionality: 80x80 grid\n",
    "# if resume:\n",
    "#   model = pickle.load(open('save.p', 'rb'))\n",
    "# else:\n",
    "#   model = {}\n",
    "#   model['W1'] = np.random.randn(H,D) / np.sqrt(D) # \"Xavier\" initialization\n",
    "#   model['W2'] = np.random.randn(H) / np.sqrt(H)\n",
    "  \n",
    "# grad_buffer = { k : np.zeros_like(v) for k,v in model.items() } # update buffers that add up gradients over a batch\n",
    "# rmsprop_cache = { k : np.zeros_like(v) for k,v in model.items() } # rmsprop memory\n",
    "\n",
    "# def sigmoid(x): \n",
    "#   return 1.0 / (1.0 + np.exp(-x)) # sigmoid \"squashing\" function to interval [0,1]\n",
    "\n",
    "# def prepro(I):\n",
    "#   \"\"\" prepro 210x160x3 uint8 frame into 6400 (80x80) 1D float vector \"\"\"\n",
    "#   I = I[35:195] # crop\n",
    "#   I = I[::2,::2,0] # downsample by factor of 2\n",
    "#   I[I == 144] = 0 # erase background (background type 1)\n",
    "#   I[I == 109] = 0 # erase background (background type 2)\n",
    "#   I[I != 0] = 1 # everything else (paddles, ball) just set to 1\n",
    "#   return I.astype(np.float).ravel()\n",
    "\n",
    "# def discount_rewards(r):\n",
    "#   \"\"\" take 1D float array of rewards and compute discounted reward \"\"\"\n",
    "#   discounted_r = np.zeros_like(r)\n",
    "#   running_add = 0\n",
    "#   for t in reversed(range(0, r.size)):\n",
    "#     if r[t] != 0: running_add = 0 # reset the sum, since this was a game boundary (pong specific!)\n",
    "#     running_add = running_add * gamma + r[t]\n",
    "#     discounted_r[t] = running_add\n",
    "#   return discounted_r\n",
    "\n",
    "# def policy_forward(x):\n",
    "#   h = np.dot(model['W1'], x)\n",
    "#   h[h<0] = 0 # ReLU nonlinearity\n",
    "#   logp = np.dot(model['W2'], h)\n",
    "#   p = sigmoid(logp)\n",
    "#   return p, h # return probability of taking action 2, and hidden state\n",
    "\n",
    "# def policy_backward(eph, epdlogp):\n",
    "#   \"\"\" backward pass. (eph is array of intermediate hidden states) \"\"\"\n",
    "#   dW2 = np.dot(eph.T, epdlogp).ravel()\n",
    "#   dh = np.outer(epdlogp, model['W2'])\n",
    "#   dh[eph <= 0] = 0 # backpro prelu\n",
    "#   dW1 = np.dot(dh.T, epx)\n",
    "#   return {'W1':dW1, 'W2':dW2}\n",
    "\n",
    "# env = gym.make(\"Pong-v0\")\n",
    "# observation = env.reset()\n",
    "# prev_x = None # used in computing the difference frame\n",
    "# xs,hs,dlogps,drs = [],[],[],[]\n",
    "# running_reward = None\n",
    "# reward_sum = 0\n",
    "# episode_number = 0\n",
    "\n",
    "while True:\n",
    "    if render: env.render()\n",
    "\n",
    "#     # preprocess the observation, set input to network to be difference image\n",
    "#     cur_x = prepro(observation)\n",
    "#     x = cur_x - prev_x if prev_x is not None else np.zeros(D)\n",
    "#     prev_x = cur_x\n",
    "    x = difference_image()\n",
    "\n",
    "#     # forward the policy network and sample an action from the returned probability\n",
    "#     aprob, h = policy_forward(x)\n",
    "#     action = 2 if np.random.uniform() < aprob else 3 # roll the dice!\n",
    "    action, aprob, h = get_action(x)\n",
    "\n",
    "#     # record various intermediates (needed later for backprop)\n",
    "#     xs.append(x) # observation\n",
    "#     hs.append(h) # hidden state\n",
    "#     y = 1 if action == 2 else 0 # a \"fake label\"\n",
    "#     dlogps.append(y - aprob) # grad that encourages the action that was taken to be taken (see http://cs231n.github.io/neural-networks-2/#losses if confused)\n",
    "\n",
    "    record_history(x, action, aprob, h)\n",
    "    \n",
    "    # step the environment and get new measurements\n",
    "    observation, reward, done, info = env.step(action)\n",
    "    reward_sum += reward\n",
    "\n",
    "    drs.append(reward) # record reward (has to be done after we call step() to get reward for previous action)\n",
    "\n",
    "    if done: # an episode finished\n",
    "        episode_number += 1\n",
    "\n",
    "#     # stack together all inputs, hidden states, action gradients, and rewards for this episode\n",
    "#     epx = np.vstack(xs)\n",
    "#     eph = np.vstack(hs)\n",
    "#     epdlogp = np.vstack(dlogps)\n",
    "#     epr = np.vstack(drs)\n",
    "#     xs,hs,dlogps,drs = [],[],[],[] # reset array memory\n",
    "    epx, eph, epdlogp, epr = get_history()\n",
    "\n",
    "#     # compute the discounted reward backwards through time\n",
    "#     discounted_epr = discount_rewards(epr)\n",
    "#     # standardize the rewards to be unit normal (helps control the gradient estimator variance)\n",
    "#     discounted_epr -= np.mean(discounted_epr)\n",
    "#     discounted_epr /= np.std(discounted_epr)\n",
    "    discounted_epr = standardize_reward(epr)\n",
    "\n",
    "    epdlogp *= discounted_epr # modulate the gradient with advantage (PG magic happens right here.)\n",
    "    grad = policy_backward(eph, epdlogp)\n",
    "    for k in model: grad_buffer[k] += grad[k] # accumulate grad over batch\n",
    "\n",
    "    # perform rmsprop parameter update every batch_size episodes\n",
    "    if episode_number % batch_size == 0:\n",
    "        rmsprop_update()\n",
    "\n",
    "    book_keeping(episode_number)\n",
    "\n",
    "    observation = env.reset() # reset env\n",
    "    prev_x = None\n",
    "\n",
    "    if reward != 0: # Pong has either +1 or -1 reward exactly when game ends.\n",
    "        print('ep %d: game finished, reward: %f', episode_number, reward, '' if reward == -1 else ' !!!!!!!!')"
   ]
  },
  {
   "cell_type": "code",
   "execution_count": null,
   "metadata": {},
   "outputs": [],
   "source": []
  },
  {
   "cell_type": "code",
   "execution_count": null,
   "metadata": {},
   "outputs": [],
   "source": []
  },
  {
   "cell_type": "code",
   "execution_count": null,
   "metadata": {},
   "outputs": [],
   "source": []
  },
  {
   "cell_type": "code",
   "execution_count": null,
   "metadata": {},
   "outputs": [],
   "source": []
  },
  {
   "cell_type": "code",
   "execution_count": null,
   "metadata": {},
   "outputs": [],
   "source": []
  },
  {
   "cell_type": "code",
   "execution_count": null,
   "metadata": {},
   "outputs": [],
   "source": []
  },
  {
   "cell_type": "code",
   "execution_count": null,
   "metadata": {},
   "outputs": [],
   "source": []
  },
  {
   "cell_type": "code",
   "execution_count": null,
   "metadata": {},
   "outputs": [],
   "source": []
  },
  {
   "cell_type": "code",
   "execution_count": null,
   "metadata": {},
   "outputs": [],
   "source": []
  }
 ],
 "metadata": {
  "kernelspec": {
   "display_name": "Python 3",
   "language": "python",
   "name": "python3"
  },
  "language_info": {
   "codemirror_mode": {
    "name": "ipython",
    "version": 3
   },
   "file_extension": ".py",
   "mimetype": "text/x-python",
   "name": "python",
   "nbconvert_exporter": "python",
   "pygments_lexer": "ipython3",
   "version": "3.7.1"
  }
 },
 "nbformat": 4,
 "nbformat_minor": 2
}
