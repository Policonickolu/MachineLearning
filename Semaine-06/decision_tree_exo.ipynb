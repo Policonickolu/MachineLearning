{
 "cells": [
  {
   "cell_type": "markdown",
   "metadata": {},
   "source": [
    "## Nous allons créer un Decision Tree permettant de classifier differents elements, en l'occurence des fruits en fonctions de trois attributs."
   ]
  },
  {
   "cell_type": "code",
   "execution_count": 1,
   "metadata": {},
   "outputs": [],
   "source": [
    "from __future__ import print_function\n",
    "import numpy as np\n",
    "import pandas as pd"
   ]
  },
  {
   "cell_type": "code",
   "execution_count": 2,
   "metadata": {},
   "outputs": [],
   "source": [
    "training_data = pd.read_csv(\"data.csv\")"
   ]
  },
  {
   "cell_type": "markdown",
   "metadata": {},
   "source": [
    "### Visualisez les donnees (valeurs reelles) ###"
   ]
  },
  {
   "cell_type": "code",
   "execution_count": 3,
   "metadata": {},
   "outputs": [
    {
     "name": "stdout",
     "output_type": "stream",
     "text": [
      "     Color  Size  Season   Label\n",
      "0      Red     1  Summer   Grape\n",
      "1    Green     3  Spring   Apple\n",
      "2      Red     3  Winter  Orange\n",
      "3    Green     2  Winter    Kiwi\n",
      "4   Yellow     3  Winter   Lemon\n",
      "5    Green     2  Winter    Kiwi\n",
      "6   Yellow     3  Winter   Lemon\n",
      "7    Green     1  Summer   Grape\n",
      "8      Red     3  Spring   Apple\n",
      "9      Red     3  Winter  Orange\n",
      "10   Green     3  Winter    Kiwi\n",
      "11  Yellow     2  Winter   Lemon\n",
      "12     Red     1  Summer   Grape\n",
      "13   Green     3  Spring   Apple\n",
      "14     Red     3  Winter  Orange\n",
      "15   Green     2  Winter    Kiwi\n",
      "16  Yellow     2  Winter   Lemon\n",
      "17     Red     1  Summer   Grape\n",
      "18   Green     3  Spring   Apple\n",
      "19     Red     3  Winter  Orange\n",
      "20   Green     3  Winter    Kiwi\n",
      "21  Yellow     3  Winter   Lemon\n",
      "22     Red     1  Summer   Grape\n",
      "23   Green     3  Spring   Apple\n",
      "24     Red     3  Winter  Orange\n",
      "25   Green     2  Winter    Kiwi\n",
      "26  Yellow     3  Winter   Lemon\n",
      "27     Red     1  Summer   Grape\n",
      "28   Green     3  Spring   Apple\n",
      "29     Red     3  Winter  Orange\n",
      "..     ...   ...     ...     ...\n",
      "70   Green     2  Winter    Kiwi\n",
      "71  Yellow     3  Winter   Lemon\n",
      "72     Red     1  Summer   Grape\n",
      "73   Green     3  Spring   Apple\n",
      "74     Red     3  Winter  Orange\n",
      "75   Green     2  Winter    Kiwi\n",
      "76  Yellow     3  Winter   Lemon\n",
      "77     Red     1  Summer   Grape\n",
      "78   Green     3  Spring   Apple\n",
      "79     Red     3  Winter  Orange\n",
      "80   Green     2  Winter    Kiwi\n",
      "81  Yellow     3  Winter   Lemon\n",
      "82     Red     1  Summer   Grape\n",
      "83   Green     3  Spring   Apple\n",
      "84     Red     3  Winter  Orange\n",
      "85   Green     2  Winter    Kiwi\n",
      "86  Yellow     3  Winter   Lemon\n",
      "87     Red     1  Summer   Grape\n",
      "88   Green     3  Spring   Apple\n",
      "89     Red     3  Winter  Orange\n",
      "90   Green     2  Winter    Kiwi\n",
      "91  Yellow     3  Winter   Lemon\n",
      "92     Red     1  Summer   Grape\n",
      "93   Green     3  Spring   Apple\n",
      "94     Red     3  Winter  Orange\n",
      "95   Green     2  Winter    Kiwi\n",
      "96  Yellow     3  Winter   Lemon\n",
      "97     Red     3  Winter  Orange\n",
      "98   Green     2  Winter    Kiwi\n",
      "99   Green     2  Winter    Kiwi\n",
      "\n",
      "[100 rows x 4 columns]\n"
     ]
    }
   ],
   "source": [
    "print(training_data)"
   ]
  },
  {
   "cell_type": "markdown",
   "metadata": {},
   "source": [
    "### Definissez X de type np.array qui contiendra les valeurs des attributs ET des labels (pour faciliter le partinioning par la suite)"
   ]
  },
  {
   "cell_type": "code",
   "execution_count": 4,
   "metadata": {},
   "outputs": [],
   "source": [
    "X = training_data.values"
   ]
  },
  {
   "cell_type": "code",
   "execution_count": 5,
   "metadata": {},
   "outputs": [],
   "source": [
    "# Nous devons maintenant stocker les differents titres de categrories pour pouvoir afficher notre arbre\n",
    "header = list(training_data.columns)"
   ]
  },
  {
   "cell_type": "markdown",
   "metadata": {},
   "source": [
    "### Nous vous donnons la fonction permettant de trouver les differentes valeurs possibles pour chaque categorie, testez la pour mieux la comprendre "
   ]
  },
  {
   "cell_type": "code",
   "execution_count": 6,
   "metadata": {},
   "outputs": [],
   "source": [
    "def unique_vals(rows, col):\n",
    "    return set([row[col] for row in rows])\n",
    "# La spécifité de l'objet set est qu'il ne peut pas contenir de doublons. Ses valeurs sont donc uniques."
   ]
  },
  {
   "cell_type": "markdown",
   "metadata": {},
   "source": [
    "### Testez votre fonction pour les differents attributs et labels ###"
   ]
  },
  {
   "cell_type": "code",
   "execution_count": 7,
   "metadata": {},
   "outputs": [
    {
     "name": "stdout",
     "output_type": "stream",
     "text": [
      "{'Summer', 'Spring', 'Winter'}\n"
     ]
    }
   ],
   "source": [
    "# Afficher les differentes saisons avec unique_vals\n",
    "print(unique_vals(X, 2))"
   ]
  },
  {
   "cell_type": "code",
   "execution_count": 8,
   "metadata": {},
   "outputs": [
    {
     "name": "stdout",
     "output_type": "stream",
     "text": [
      "{'Green', 'Yellow', 'Red'}\n"
     ]
    }
   ],
   "source": [
    "# Afficher les differentes couleurs avec unique_vals\n",
    "print(unique_vals(X, 0))"
   ]
  },
  {
   "cell_type": "code",
   "execution_count": 9,
   "metadata": {},
   "outputs": [
    {
     "name": "stdout",
     "output_type": "stream",
     "text": [
      "{1, 2, 3}\n"
     ]
    }
   ],
   "source": [
    "# Afficher les differents fruits avec unique_vals\n",
    "print(unique_vals(X, 1))"
   ]
  },
  {
   "cell_type": "markdown",
   "metadata": {},
   "source": [
    "### Definir la fonction permettant de compter le nombre de fruits présents par categorie *(nombre de citrons, nombre de pommes, etc.)* \n",
    "#### La valeur de retour doit être un dictionnaire"
   ]
  },
  {
   "cell_type": "code",
   "execution_count": 10,
   "metadata": {},
   "outputs": [],
   "source": [
    "def class_counts(rows):\n",
    "    counts = {v : 0 for v in unique_vals(rows, -1)}\n",
    "    for row in rows:\n",
    "        counts[row[-1]] += 1    \n",
    "    return counts"
   ]
  },
  {
   "cell_type": "code",
   "execution_count": 11,
   "metadata": {},
   "outputs": [
    {
     "data": {
      "text/plain": [
       "{'Orange': 20, 'Lemon': 20, 'Apple': 19, 'Grape': 19, 'Kiwi': 22}"
      ]
     },
     "execution_count": 11,
     "metadata": {},
     "output_type": "execute_result"
    }
   ],
   "source": [
    "## Lancez votre fonction pour votre dataset :\n",
    "class_counts(X)\n",
    "## Elle devrait retourner : {'Grape': 19, 'Apple': 19, 'Orange': 20, 'Kiwi': 22, 'Lemon': 20} "
   ]
  },
  {
   "cell_type": "markdown",
   "metadata": {},
   "source": [
    "### Definition de la fonction is_numeric permettant de savoir si une valeur est de type int/float ou non. ###"
   ]
  },
  {
   "cell_type": "code",
   "execution_count": 12,
   "metadata": {},
   "outputs": [],
   "source": [
    "def is_numeric(value):\n",
    "    if type(value) == int or type(value) == float:\n",
    "        return True\n",
    "    else:\n",
    "        return False"
   ]
  },
  {
   "cell_type": "code",
   "execution_count": 13,
   "metadata": {},
   "outputs": [
    {
     "name": "stdout",
     "output_type": "stream",
     "text": [
      "True\n",
      "True\n",
      "True\n"
     ]
    }
   ],
   "source": [
    "## Testez votre fonction pour une valeur numerique (int ou float) ...\n",
    "print(is_numeric(4867))\n",
    "print(is_numeric(42.4233333))\n",
    "print(is_numeric(1/3))"
   ]
  },
  {
   "cell_type": "code",
   "execution_count": 14,
   "metadata": {},
   "outputs": [
    {
     "name": "stdout",
     "output_type": "stream",
     "text": [
      "False\n",
      "False\n",
      "False\n",
      "False\n",
      "False\n"
     ]
    }
   ],
   "source": [
    "#... et pour une valeur non-numérique \n",
    "print(is_numeric(X))\n",
    "print(is_numeric(list()))\n",
    "print(is_numeric('lol'))\n",
    "print(is_numeric(True))\n",
    "print(is_numeric('42'))"
   ]
  },
  {
   "cell_type": "markdown",
   "metadata": {},
   "source": [
    "### Pour partitionner le dataset, nous allons utiliser une classe \"Questions\" ! Cette classe enregistre un numero de colonne (Ex : 0 pour la couleur) et une valeur de la colonne (ex : Vert).  \n",
    "### La fonction match est utilisee pour comparer la valeur d'un exemple a celle de la question (voir commentaires fonction match).###\n",
    "#### Vous avez ici directement le constructeur et la fonction d'affichage. A vous de trouver la fonction match####"
   ]
  },
  {
   "cell_type": "code",
   "execution_count": 15,
   "metadata": {},
   "outputs": [],
   "source": [
    "class Question:\n",
    "    \n",
    "    def __init__(self, column, value):\n",
    "        # Le Constructeur  permet d'attribuer les variables données à la classe\n",
    "        self.column = column\n",
    "        self.value = value\n",
    "\n",
    "    def match(self, example):\n",
    "        # Compare la valeur donnée pour la question (value), a la valeur correspondante d'example \n",
    "        # (example est une ligne)\n",
    "        # ATTENTION : La valeur de retour doit etre un boolean (True / False)\n",
    "        if is_numeric(self.value):\n",
    "            return self.value <= example[self.column] \n",
    "        else:\n",
    "            return self.value == example[self.column] \n",
    "        \n",
    "    def __repr__(self):\n",
    "        # This is just a helper method to print\n",
    "        # the question in a readable format.\n",
    "        condition = \"==\"\n",
    "        if is_numeric(self.value):\n",
    "            condition = \">=\"\n",
    "        return \"Is %s %s %s?\" % (\n",
    "            header[self.column], condition, str(self.value))"
   ]
  },
  {
   "cell_type": "markdown",
   "metadata": {},
   "source": [
    "#### Testez vos questions"
   ]
  },
  {
   "cell_type": "code",
   "execution_count": 16,
   "metadata": {},
   "outputs": [],
   "source": [
    "# Ecrivez une question pour un attribut numerique\n",
    "q1 = Question(1, 2)"
   ]
  },
  {
   "cell_type": "code",
   "execution_count": 17,
   "metadata": {},
   "outputs": [],
   "source": [
    "# Et une deuxieme pour un attribut catégorique (couleurs / saisons) : \n",
    "q2 = Question(2, 'Winter')"
   ]
  },
  {
   "cell_type": "code",
   "execution_count": 18,
   "metadata": {},
   "outputs": [
    {
     "name": "stdout",
     "output_type": "stream",
     "text": [
      "['Yellow' 3 'Winter' 'Lemon']\n",
      "False\n"
     ]
    }
   ],
   "source": [
    "# Choisissez un exemple dans le dataset et vérifiez avec la fonction match s'il est de couleur rouge\n",
    "example = X[np.random.randint(X.shape[0])]\n",
    "print(example)\n",
    "q3 = Question(0, 'Red')\n",
    "print(q3.match(example))"
   ]
  },
  {
   "cell_type": "code",
   "execution_count": 19,
   "metadata": {},
   "outputs": [
    {
     "name": "stdout",
     "output_type": "stream",
     "text": [
      "['Green' 2 'Winter' 'Kiwi']\n",
      "True\n"
     ]
    }
   ],
   "source": [
    "# Pareil, mais tester pour size >= 2 (Attention à l'inegalité)\n",
    "example = X[np.random.randint(X.shape[0])]\n",
    "print(example)\n",
    "q4 = Question(1, 2)\n",
    "print(q4.match(example))"
   ]
  },
  {
   "cell_type": "markdown",
   "metadata": {},
   "source": [
    "### Vous devez definir la fonction partition qui prend en paramètres le dataset et une question, et les split en fonction de leur reponse (True / False) --> Ce seront nos 2 branches partant d'un noeud."
   ]
  },
  {
   "cell_type": "code",
   "execution_count": 20,
   "metadata": {},
   "outputs": [],
   "source": [
    "def partition(rows, question):\n",
    "    # Pour chaque ligne dans le dataset, partionnez le en 2 en fonction du resultat de la question.\n",
    "    true_rows, false_rows = [], []\n",
    "    for row in rows:\n",
    "        if question.match(row):\n",
    "            true_rows.append(row)\n",
    "        else:\n",
    "            false_rows.append(row)    \n",
    "    return true_rows, false_rows"
   ]
  },
  {
   "cell_type": "code",
   "execution_count": 21,
   "metadata": {
    "scrolled": true
   },
   "outputs": [],
   "source": [
    "# Testons notre fonction partition pour isoler les lignes \"rouges\"\n",
    "true_rows, false_rows = partition(X, q3)"
   ]
  },
  {
   "cell_type": "code",
   "execution_count": 22,
   "metadata": {},
   "outputs": [
    {
     "name": "stdout",
     "output_type": "stream",
     "text": [
      "[['Red' 1 'Summer' 'Grape']\n",
      " ['Red' 3 'Winter' 'Orange']\n",
      " ['Red' 3 'Spring' 'Apple']\n",
      " ['Red' 3 'Winter' 'Orange']\n",
      " ['Red' 1 'Summer' 'Grape']\n",
      " ['Red' 3 'Winter' 'Orange']\n",
      " ['Red' 1 'Summer' 'Grape']\n",
      " ['Red' 3 'Winter' 'Orange']\n",
      " ['Red' 1 'Summer' 'Grape']\n",
      " ['Red' 3 'Winter' 'Orange']\n",
      " ['Red' 1 'Summer' 'Grape']\n",
      " ['Red' 3 'Winter' 'Orange']\n",
      " ['Red' 1 'Summer' 'Grape']\n",
      " ['Red' 3 'Winter' 'Orange']\n",
      " ['Red' 1 'Summer' 'Grape']\n",
      " ['Red' 3 'Winter' 'Orange']\n",
      " ['Red' 1 'Summer' 'Grape']\n",
      " ['Red' 3 'Winter' 'Orange']\n",
      " ['Red' 1 'Summer' 'Grape']\n",
      " ['Red' 3 'Winter' 'Orange']\n",
      " ['Red' 1 'Summer' 'Grape']\n",
      " ['Red' 3 'Winter' 'Orange']\n",
      " ['Red' 1 'Summer' 'Grape']\n",
      " ['Red' 3 'Winter' 'Orange']\n",
      " ['Red' 1 'Summer' 'Grape']\n",
      " ['Red' 3 'Winter' 'Orange']\n",
      " ['Red' 1 'Summer' 'Grape']\n",
      " ['Red' 3 'Winter' 'Orange']\n",
      " ['Red' 1 'Summer' 'Grape']\n",
      " ['Red' 3 'Winter' 'Orange']\n",
      " ['Red' 1 'Summer' 'Grape']\n",
      " ['Red' 3 'Winter' 'Orange']\n",
      " ['Red' 1 'Summer' 'Grape']\n",
      " ['Red' 3 'Winter' 'Orange']\n",
      " ['Red' 1 'Summer' 'Grape']\n",
      " ['Red' 3 'Winter' 'Orange']\n",
      " ['Red' 1 'Summer' 'Grape']\n",
      " ['Red' 3 'Winter' 'Orange']\n",
      " ['Red' 3 'Winter' 'Orange']]\n",
      "[['Green' 3 'Spring' 'Apple']\n",
      " ['Green' 2 'Winter' 'Kiwi']\n",
      " ['Yellow' 3 'Winter' 'Lemon']\n",
      " ['Green' 2 'Winter' 'Kiwi']\n",
      " ['Yellow' 3 'Winter' 'Lemon']\n",
      " ['Green' 1 'Summer' 'Grape']\n",
      " ['Green' 3 'Winter' 'Kiwi']\n",
      " ['Yellow' 2 'Winter' 'Lemon']\n",
      " ['Green' 3 'Spring' 'Apple']\n",
      " ['Green' 2 'Winter' 'Kiwi']\n",
      " ['Yellow' 2 'Winter' 'Lemon']\n",
      " ['Green' 3 'Spring' 'Apple']\n",
      " ['Green' 3 'Winter' 'Kiwi']\n",
      " ['Yellow' 3 'Winter' 'Lemon']\n",
      " ['Green' 3 'Spring' 'Apple']\n",
      " ['Green' 2 'Winter' 'Kiwi']\n",
      " ['Yellow' 3 'Winter' 'Lemon']\n",
      " ['Green' 3 'Spring' 'Apple']\n",
      " ['Green' 2 'Winter' 'Kiwi']\n",
      " ['Yellow' 3 'Winter' 'Lemon']\n",
      " ['Green' 3 'Spring' 'Apple']\n",
      " ['Green' 2 'Winter' 'Kiwi']\n",
      " ['Yellow' 3 'Winter' 'Lemon']\n",
      " ['Green' 3 'Spring' 'Apple']\n",
      " ['Green' 2 'Winter' 'Kiwi']\n",
      " ['Yellow' 3 'Winter' 'Lemon']\n",
      " ['Green' 3 'Spring' 'Apple']\n",
      " ['Green' 2 'Winter' 'Kiwi']\n",
      " ['Yellow' 3 'Winter' 'Lemon']\n",
      " ['Green' 3 'Spring' 'Apple']\n",
      " ['Green' 2 'Winter' 'Kiwi']\n",
      " ['Yellow' 3 'Winter' 'Lemon']\n",
      " ['Green' 3 'Spring' 'Apple']\n",
      " ['Green' 2 'Winter' 'Kiwi']\n",
      " ['Yellow' 3 'Winter' 'Lemon']\n",
      " ['Green' 3 'Spring' 'Apple']\n",
      " ['Green' 2 'Winter' 'Kiwi']\n",
      " ['Yellow' 3 'Winter' 'Lemon']\n",
      " ['Green' 3 'Spring' 'Apple']\n",
      " ['Green' 2 'Winter' 'Kiwi']\n",
      " ['Yellow' 3 'Winter' 'Lemon']\n",
      " ['Green' 3 'Spring' 'Apple']\n",
      " ['Green' 2 'Winter' 'Kiwi']\n",
      " ['Yellow' 3 'Winter' 'Lemon']\n",
      " ['Green' 3 'Spring' 'Apple']\n",
      " ['Green' 2 'Winter' 'Kiwi']\n",
      " ['Yellow' 3 'Winter' 'Lemon']\n",
      " ['Green' 3 'Spring' 'Apple']\n",
      " ['Green' 2 'Winter' 'Kiwi']\n",
      " ['Yellow' 3 'Winter' 'Lemon']\n",
      " ['Green' 3 'Spring' 'Apple']\n",
      " ['Green' 2 'Winter' 'Kiwi']\n",
      " ['Yellow' 3 'Winter' 'Lemon']\n",
      " ['Green' 3 'Spring' 'Apple']\n",
      " ['Green' 2 'Winter' 'Kiwi']\n",
      " ['Yellow' 3 'Winter' 'Lemon']\n",
      " ['Green' 3 'Spring' 'Apple']\n",
      " ['Green' 2 'Winter' 'Kiwi']\n",
      " ['Yellow' 3 'Winter' 'Lemon']\n",
      " ['Green' 2 'Winter' 'Kiwi']\n",
      " ['Green' 2 'Winter' 'Kiwi']]\n"
     ]
    }
   ],
   "source": [
    "# Et verifiez le contenue de vos 2 nodes\n",
    "print(np.array(true_rows))\n",
    "print(np.array(false_rows))"
   ]
  },
  {
   "cell_type": "markdown",
   "metadata": {},
   "source": [
    "### Maintenant un peu de maths !\n",
    "#### Nous allons calculer l'impurity d'une liste d'exemple grace a GINI \n",
    "#### ATTENTION : La fonction doit pouvoir prendre les listes qui suivent comme les lignes d'exemples contenues dans X (ex : gini(X[0]) ))"
   ]
  },
  {
   "cell_type": "code",
   "execution_count": 23,
   "metadata": {},
   "outputs": [],
   "source": [
    "def gini(rows):\n",
    "    impurity = 1\n",
    "    labs = unique_vals(rows, 0)\n",
    "    count = class_counts(rows)\n",
    "    length = len(rows)\n",
    "    for lab in labs:\n",
    "        impurity -= (count[lab] / length)**2\n",
    "    return impurity"
   ]
  },
  {
   "cell_type": "code",
   "execution_count": 24,
   "metadata": {},
   "outputs": [
    {
     "data": {
      "text/plain": [
       "0.0"
      ]
     },
     "execution_count": 24,
     "metadata": {},
     "output_type": "execute_result"
    }
   ],
   "source": [
    "# Pour verifier la fonction tester l'exemple suivant \n",
    "no_mixing = [['Apple'], ['Apple']]\n",
    "# Que devrait-etre votre resultat ?\n",
    "gini(no_mixing)"
   ]
  },
  {
   "cell_type": "code",
   "execution_count": 25,
   "metadata": {},
   "outputs": [
    {
     "data": {
      "text/plain": [
       "0.5"
      ]
     },
     "execution_count": 25,
     "metadata": {},
     "output_type": "execute_result"
    }
   ],
   "source": [
    " # Maintenant avec un autre\n",
    "some_mixing = [['Apple'], ['Orange'], ['Orange'], ['Apple']]\n",
    "#  Que devriez vous obtenir comme resultat ?\n",
    "gini(some_mixing)"
   ]
  },
  {
   "cell_type": "code",
   "execution_count": 26,
   "metadata": {},
   "outputs": [
    {
     "data": {
      "text/plain": [
       "0.7999999999999998"
      ]
     },
     "execution_count": 26,
     "metadata": {},
     "output_type": "execute_result"
    }
   ],
   "source": [
    "# Et maintenant pour un dataset avec tous nos fruits\n",
    "lots_of_mixing = [['Apple'],\n",
    "                  ['Orange'],\n",
    "                  ['Grape'],\n",
    "                  ['Lemon'],\n",
    "                  ['Kiwi']]\n",
    "# Vous devriez obtenir environ 0.8\n",
    "gini(lots_of_mixing)"
   ]
  },
  {
   "cell_type": "markdown",
   "metadata": {},
   "source": [
    "### Calculons l'information gain "
   ]
  },
  {
   "cell_type": "code",
   "execution_count": 27,
   "metadata": {},
   "outputs": [],
   "source": [
    "\"\"\"Information Gain :\n",
    "The uncertainty of the starting node, minus the weighted impurity of\n",
    "two child nodes.\n",
    "\"\"\"\n",
    "\n",
    "def info_gain(left, right, current_uncertainty):\n",
    "    #left : true_rows\n",
    "    #right : false_rows\n",
    "    llength = len(left)\n",
    "    rlength = len(right)\n",
    "    p1 = llength / (llength + rlength)\n",
    "    p2 = rlength / (llength + rlength)\n",
    "    info_gain = current_uncertainty - ((p1 * gini(left)) + (p2 * gini(right)))    \n",
    "    return info_gain"
   ]
  },
  {
   "cell_type": "code",
   "execution_count": 28,
   "metadata": {},
   "outputs": [
    {
     "name": "stdout",
     "output_type": "stream",
     "text": [
      "0.7993999999999999\n"
     ]
    }
   ],
   "source": [
    "# Calculez l'uncertainy de notre dataset.\n",
    "#print([[r[-1]] for r in X])\n",
    "\n",
    "current_uncertainty = gini([[r[-1]] for r in X])\n",
    "print(current_uncertainty)\n",
    "# Vous devriez obtenir environ 0.8"
   ]
  },
  {
   "cell_type": "code",
   "execution_count": 29,
   "metadata": {},
   "outputs": [
    {
     "name": "stdout",
     "output_type": "stream",
     "text": [
      "0.18349415720891116\n"
     ]
    }
   ],
   "source": [
    "# Quel est notre information gain du Dataset si nous partitionnons avec la question couleur == rouge ??\n",
    "info_gain1 = info_gain([[r[-1]] for r in true_rows], [[r[-1]] for r in false_rows], current_uncertainty)\n",
    "print(info_gain1)\n",
    "# Resultat : environ 0.1835"
   ]
  },
  {
   "cell_type": "code",
   "execution_count": 30,
   "metadata": {},
   "outputs": [
    {
     "name": "stdout",
     "output_type": "stream",
     "text": [
      "0.19248641975308634\n"
     ]
    }
   ],
   "source": [
    "# De même pour la question \"Size >= 2\"\n",
    "true_rows2, false_rows2 = partition(X, q4)\n",
    "info_gain2 = info_gain([[r[-1]] for r in true_rows2], [[r[-1]] for r in false_rows2], current_uncertainty)\n",
    "print(info_gain2)\n",
    "# Resultat : environ 0.1925"
   ]
  },
  {
   "cell_type": "markdown",
   "metadata": {},
   "source": [
    "### Pour ne pas tout tester manuellement, construisez la fonction vous permettant de trouver la question donnant le meilleur information gain en iterant sur chaque feature / value."
   ]
  },
  {
   "cell_type": "code",
   "execution_count": 38,
   "metadata": {},
   "outputs": [],
   "source": [
    "def find_best_split(rows):\n",
    "    best_gain = 0\n",
    "    best_question = None  # 1 Objet Question\n",
    "    current_uncertainty = gini([[r[-1]] for r in rows])\n",
    "    for i in range(rows.shape[1] - 1):\n",
    "        u_vals = unique_vals(X, i)\n",
    "        for row in rows:\n",
    "            q = Question(i, row[i])\n",
    "            tr, fr = partition(rows, q)\n",
    "            tr = [[r[-1]] for r in tr]\n",
    "            fr = [[r[-1]] for r in fr]\n",
    "            ig = info_gain(tr, fr, current_uncertainty)\n",
    "            if ig > best_gain:\n",
    "                best_gain = ig\n",
    "                best_question = q\n",
    "    return best_gain, best_question"
   ]
  },
  {
   "cell_type": "code",
   "execution_count": 39,
   "metadata": {},
   "outputs": [
    {
     "name": "stdout",
     "output_type": "stream",
     "text": [
      "Is Color == Yellow?\n"
     ]
    }
   ],
   "source": [
    "### Testez votre fonction sur le dataset\n",
    "best_gain, best_question = find_best_split(X)\n",
    "print(best_question)\n",
    "# Vous devriez avoir : is color == yellow ?"
   ]
  },
  {
   "cell_type": "markdown",
   "metadata": {},
   "source": [
    "### Nous allons maintenant construire notre Decision Tree \n",
    "#### Les objets Leaf et Decision_Node sont donnés,  à vous de trouver la fonction qui permettra de construire l'arbre (build_tree)"
   ]
  },
  {
   "cell_type": "code",
   "execution_count": 40,
   "metadata": {},
   "outputs": [],
   "source": [
    "class Leaf:\n",
    "    def __init__(self, rows):\n",
    "        self.predictions = class_counts(rows)"
   ]
  },
  {
   "cell_type": "code",
   "execution_count": 41,
   "metadata": {},
   "outputs": [],
   "source": [
    "class Decision_Node:\n",
    "    \"\"\"A Decision Node asks a question.\n",
    "    This holds a reference to the question, and to the two child nodes.\n",
    "    \"\"\"\n",
    "    def __init__(self,\n",
    "                 question,\n",
    "                 true_branch,\n",
    "                 false_branch):\n",
    "        self.question = question\n",
    "        self.true_branch = true_branch\n",
    "        self.false_branch = false_branch"
   ]
  },
  {
   "cell_type": "code",
   "execution_count": 45,
   "metadata": {},
   "outputs": [],
   "source": [
    "def build_tree(rows):\n",
    "    \"\"\"Builds the tree.\n",
    "    Rules of recursion: 1) Believe that it works. 2) Start by checking\n",
    "    for the base case (no further information gain). 3) Prepare for\n",
    "    giant stack traces.\n",
    "    \"\"\"\n",
    "    bg, bq = find_best_split(rows)\n",
    "    #print(bg)\n",
    "    if bg > 0:\n",
    "        #print(bq.column)\n",
    "        tr, fr = partition(rows, bq)\n",
    "        tr = np.array(tr)\n",
    "        fr = np.array(fr)\n",
    "        #np.delete(tr, bq.column, 0)\n",
    "        #np.delete(fr, bq.column, 0)\n",
    "        #print(tr)\n",
    "        tb = build_tree(np.array(tr))\n",
    "        fb = build_tree(np.array(fr))\n",
    "        return (Decision_Node(bq, tb, fb))\n",
    "    else:\n",
    "        return (Leaf(rows))\n",
    "    # Rappelez-vous de la condition d'arret et de la creation d'une leaf\n"
   ]
  },
  {
   "cell_type": "markdown",
   "metadata": {},
   "source": [
    "### Fonction d'affichage de l'arbre (c'est cadeau ;) )"
   ]
  },
  {
   "cell_type": "code",
   "execution_count": 46,
   "metadata": {},
   "outputs": [],
   "source": [
    "def print_tree(node, spacing=\"\"):\n",
    "    \"\"\"World's most elegant tree printing function.\"\"\"\n",
    "\n",
    "    # Base case: we've reached a leaf\n",
    "    if isinstance(node, Leaf):\n",
    "        print (spacing + \"Predict\", node.predictions)\n",
    "        return\n",
    "\n",
    "    # Print the question at this node\n",
    "    print (spacing + str(node.question))\n",
    "\n",
    "    # Call this function recursively on the true branch\n",
    "    print (spacing + '--> True:')\n",
    "    print_tree(node.true_branch, spacing + \"  \")\n",
    "\n",
    "    # Call this function recursively on the false branch\n",
    "    print (spacing + '--> False:')\n",
    "    print_tree(node.false_branch, spacing + \"  \")"
   ]
  },
  {
   "cell_type": "markdown",
   "metadata": {},
   "source": [
    "### Maintenant, creez votre arbre et imprimez le ! ;)"
   ]
  },
  {
   "cell_type": "code",
   "execution_count": 47,
   "metadata": {},
   "outputs": [],
   "source": [
    "my_tree = build_tree(X)"
   ]
  },
  {
   "cell_type": "code",
   "execution_count": 48,
   "metadata": {},
   "outputs": [
    {
     "name": "stdout",
     "output_type": "stream",
     "text": [
      "Is Color == Yellow?\n",
      "--> True:\n",
      "  Predict {'Lemon': 20}\n",
      "--> False:\n",
      "  Is Season == Winter?\n",
      "  --> True:\n",
      "    Is Color == Red?\n",
      "    --> True:\n",
      "      Predict {'Orange': 20}\n",
      "    --> False:\n",
      "      Predict {'Kiwi': 22}\n",
      "  --> False:\n",
      "    Is Size >= 3?\n",
      "    --> True:\n",
      "      Predict {'Apple': 19}\n",
      "    --> False:\n",
      "      Predict {'Grape': 19}\n"
     ]
    }
   ],
   "source": [
    "print_tree(my_tree)"
   ]
  },
  {
   "cell_type": "markdown",
   "metadata": {},
   "source": [
    "### Construisez la fonction classify qui permettra de parcourir l'abre pour un exemple donné. Elle nous retourne les predictions quand elle atteint une leaf (leaf.predictions)\n",
    "#### Classify est une fonction recurssive allant de node en node :)\n",
    "#### PS : man isinstance()"
   ]
  },
  {
   "cell_type": "code",
   "execution_count": 51,
   "metadata": {},
   "outputs": [],
   "source": [
    "def classify(row, node):\n",
    "    if isinstance(node, Leaf):\n",
    "        return node.predictions\n",
    "    if node.question.match(row):\n",
    "        return classify(row, node.true_branch)\n",
    "    else:\n",
    "        return classify(row, node.false_branch)"
   ]
  },
  {
   "cell_type": "code",
   "execution_count": 53,
   "metadata": {},
   "outputs": [
    {
     "data": {
      "text/plain": [
       "{'Kiwi': 22}"
      ]
     },
     "execution_count": 53,
     "metadata": {},
     "output_type": "execute_result"
    }
   ],
   "source": [
    "# Test de la fonction avec le 16eme data sample. Vous devriez obtenir {'Kiwi': 22}\n",
    "classify(X[15], my_tree)"
   ]
  },
  {
   "cell_type": "code",
   "execution_count": 54,
   "metadata": {},
   "outputs": [],
   "source": [
    "def print_leaf(counts):\n",
    "    \"\"\"A nicer way to print the predictions at a leaf.\"\"\"\n",
    "    total = sum(counts.values()) * 1.0\n",
    "    probs = {}\n",
    "    for lbl in counts.keys():\n",
    "        probs[lbl] = str(int(counts[lbl] / total * 100)) + \"%\"\n",
    "    return probs"
   ]
  },
  {
   "cell_type": "code",
   "execution_count": 55,
   "metadata": {},
   "outputs": [
    {
     "data": {
      "text/plain": [
       "{'Grape': '100%'}"
      ]
     },
     "execution_count": 55,
     "metadata": {},
     "output_type": "execute_result"
    }
   ],
   "source": [
    "# Maintenant avec une fonction d'affichage un peu plus plaisante. Resultat : {'Grape': '100%'}\n",
    "print_leaf(classify(X[0], my_tree))"
   ]
  },
  {
   "cell_type": "code",
   "execution_count": 56,
   "metadata": {},
   "outputs": [],
   "source": [
    "# Tester avec ce dataset, puis essayer de changer les valeurs pour mieux comprendre le comportement de l'arbre\n",
    "testing_data = [\n",
    "    ['Green', 2, 'Winter','Kiwi'],\n",
    "    ['Yellow', 3, 'Winter', 'Lemon'],\n",
    "    ['Red', 1, 'Summer', 'Grape'],\n",
    "    ['Red', 2, 'Summer', 'Grape'],\n",
    "    ['Yellow', 3, 'Winter', 'Lemon'],\n",
    "]"
   ]
  },
  {
   "cell_type": "code",
   "execution_count": 57,
   "metadata": {},
   "outputs": [
    {
     "name": "stdout",
     "output_type": "stream",
     "text": [
      "Actual: Kiwi. Predicted: {'Kiwi': '100%'}\n",
      "Actual: Lemon. Predicted: {'Lemon': '100%'}\n",
      "Actual: Grape. Predicted: {'Grape': '100%'}\n",
      "Actual: Grape. Predicted: {'Grape': '100%'}\n",
      "Actual: Lemon. Predicted: {'Lemon': '100%'}\n"
     ]
    }
   ],
   "source": [
    "for row in testing_data:\n",
    "    print (\"Actual: %s. Predicted: %s\" %\n",
    "           (row[3], print_leaf(classify(row, my_tree))))"
   ]
  },
  {
   "cell_type": "code",
   "execution_count": null,
   "metadata": {},
   "outputs": [],
   "source": []
  }
 ],
 "metadata": {
  "kernelspec": {
   "display_name": "Python 3",
   "language": "python",
   "name": "python3"
  },
  "language_info": {
   "codemirror_mode": {
    "name": "ipython",
    "version": 3
   },
   "file_extension": ".py",
   "mimetype": "text/x-python",
   "name": "python",
   "nbconvert_exporter": "python",
   "pygments_lexer": "ipython3",
   "version": "3.7.1"
  }
 },
 "nbformat": 4,
 "nbformat_minor": 2
}
